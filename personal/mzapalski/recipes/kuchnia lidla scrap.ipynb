{
 "cells": [
  {
   "cell_type": "code",
   "execution_count": 1,
   "metadata": {},
   "outputs": [],
   "source": [
    "import requests\n",
    "from bs4 import BeautifulSoup"
   ]
  },
  {
   "cell_type": "code",
   "execution_count": 2,
   "metadata": {},
   "outputs": [],
   "source": [
    "def get_url(url):\n",
    "    try:\n",
    "        r = requests.get(url)\n",
    "    except Exception as e:\n",
    "        print(e)\n",
    "        return None\n",
    "    else:\n",
    "        return r.text"
   ]
  },
  {
   "cell_type": "code",
   "execution_count": 3,
   "metadata": {},
   "outputs": [],
   "source": [
    "def GetIngrs(url):\n",
    "    bs = BeautifulSoup(get_url(url), 'lxml')\n",
    "    a = bs.findAll(\"div\", {\"class\": \"skladniki\"})\n",
    "    ings = a[0].find_all('li')\n",
    "        \n",
    "    clean_ings = []\n",
    "    \n",
    "    for item in ings:\n",
    "        a = item.text.split(' – ')\n",
    "        if(len(a)<2):\n",
    "            quantity=''\n",
    "        else:\n",
    "            quantity = a[1]\n",
    "        name = a[0]\n",
    "        clean_ings.append((name, quantity))\n",
    "        \n",
    "    a = bs.findAll(\"li\", {\"class\": \"meta_size\"})\n",
    "    n_portions = int(a[0].contents[0])\n",
    "    \n",
    "    return {'url':url,\n",
    "           'ingredients':clean_ings,\n",
    "           'portions':n_portions}"
   ]
  },
  {
   "cell_type": "code",
   "execution_count": 7,
   "metadata": {},
   "outputs": [
    {
     "data": {
      "text/plain": [
       "{'url': 'https://kuchnialidla.pl/serowe-oponki-z-sosem-malinowym',\n",
       " 'ingredients': [('twaróg półtłusty', '275 g'),\n",
       "  ('jaja', '2 szt.'),\n",
       "  ('cukier', '40 g'),\n",
       "  ('mąka pszenna poznańska', '175 g'),\n",
       "  ('mąka pszenna pełnoziarnista', '100 g'),\n",
       "  ('masło', '20 g'),\n",
       "  ('laska wanilii', '1 szt.'),\n",
       "  ('proszek do pieczenia', '1 łyżeczka'),\n",
       "  ('soda oczyszczona', '¼ łyżeczki'),\n",
       "  ('spirytus', '2 łyżki'),\n",
       "  ('olej rzepakowy', '1 l'),\n",
       "  ('sól', '2 szczypty'),\n",
       "  ('woda', '100 ml'),\n",
       "  ('maliny', '250 g'),\n",
       "  ('cukier', '50 g'),\n",
       "  ('mąka ziemniaczana', '1 łyżka'),\n",
       "  ('zima woda', '40 ml'),\n",
       "  ('cukier puder', '')],\n",
       " 'portions': 30}"
      ]
     },
     "execution_count": 7,
     "metadata": {},
     "output_type": "execute_result"
    }
   ],
   "source": [
    "url = 'https://kuchnialidla.pl/serowe-oponki-z-sosem-malinowym'\n",
    "# url = 'https://kuchnialidla.pl/zupa-krem-z-topinamburu'\n",
    "# url = 'https://kuchnialidla.pl/roladki-z-tortilli'\n",
    "\n",
    "GetIngrs(url)"
   ]
  },
  {
   "cell_type": "code",
   "execution_count": 6,
   "metadata": {},
   "outputs": [],
   "source": [
    "#TO DO\n",
    "\n",
    "## zamienic quantity na -> quantity & unit"
   ]
  }
 ],
 "metadata": {
  "kernelspec": {
   "display_name": "Python 3",
   "language": "python",
   "name": "python3"
  },
  "language_info": {
   "codemirror_mode": {
    "name": "ipython",
    "version": 3
   },
   "file_extension": ".py",
   "mimetype": "text/x-python",
   "name": "python",
   "nbconvert_exporter": "python",
   "pygments_lexer": "ipython3",
   "version": "3.7.5"
  }
 },
 "nbformat": 4,
 "nbformat_minor": 2
}
