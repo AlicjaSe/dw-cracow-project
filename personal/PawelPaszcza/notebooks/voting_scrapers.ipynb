{
 "cells": [
  {
   "cell_type": "code",
   "execution_count": 1,
   "metadata": {},
   "outputs": [],
   "source": [
    "from bs4 import BeautifulSoup\n",
    "import requests\n",
    "import pandas as pd\n",
    "import numpy as np\n",
    "import functools"
   ]
  },
  {
   "cell_type": "code",
   "execution_count": 2,
   "metadata": {},
   "outputs": [],
   "source": [
    "def date_parser(date_str):\n",
    "    \n",
    "    month_dict = {'stycznia' : 1,\n",
    "                  'lutego' : 2,\n",
    "                  'marca' : 3,\n",
    "                  'kwietnia' : 4,\n",
    "                  'maja' : 5,\n",
    "                  'czerwca' : 6,\n",
    "                  'lipca' : 7,\n",
    "                  'sierpnia': 8,\n",
    "                  'września' : 9,\n",
    "                  'października': 10,\n",
    "                  'listopada' : 11,\n",
    "                  'grudnia': 12                 \n",
    "                 }\n",
    "    day, month, year, *_ = date_str.split()\n",
    "    return pd.datetime(int(year), int(month_dict[month]), int(day))"
   ]
  },
  {
   "cell_type": "code",
   "execution_count": 3,
   "metadata": {},
   "outputs": [],
   "source": [
    "def get_1voting_list(nr_kadencji=8):\n",
    "    \"\"\"Return dataframe of votings\n",
    "    for selected parliamentary term\"\"\"\n",
    "    \n",
    "    source_url = 'https://www.sejm.gov.pl/Sejm8.nsf/'\n",
    "    req_url = source_url+f'agent.xsp?symbol=posglos&NrKadencji={nr_kadencji}'\n",
    "    try:\n",
    "        r = requests.get(req_url)\n",
    "    except Exception as e:\n",
    "        print(e)\n",
    "    else:\n",
    "        if r.status_code != 200:\n",
    "            print(f'Status code: {r.status_code}')\n",
    "            return None\n",
    "        html = r.text\n",
    "        soup = BeautifulSoup(html, 'lxml')\n",
    "        links_list = []\n",
    "        for tr in soup.table.find_all('tr'):\n",
    "            a = tr.a\n",
    "            link = '' if a == None else source_url+tr.a.get('href')\n",
    "            links_list.append(link)\n",
    "        voting_df = pd.read_html(req_url, encoding='utf-8')[0]\n",
    "        voting_df.fillna(method='ffill', inplace=True)\n",
    "        voting_df = voting_df.iloc[:,:3]\n",
    "        voting_df['Link'] = links_list[1:]\n",
    "        voting_df['Data'] = voting_df.iloc[:,1].apply(date_parser)\n",
    "        voting_df['Nr kadencji'] = nr_kadencji\n",
    "        voting_df['Nr pos. Sejmu'] = voting_df['Nr pos. Sejmu'].astype('int64')\n",
    "        return voting_df"
   ]
  },
  {
   "cell_type": "code",
   "execution_count": 4,
   "metadata": {},
   "outputs": [],
   "source": [
    "def get_voting_list(kadencje=[9,8,7]):\n",
    "    \"\"\"Return dataframe of votings\n",
    "    of selected parliamentary terms\"\"\"\n",
    "\n",
    "    df = pd.DataFrame()\n",
    "    return functools.reduce(lambda df1,kadencja: df1.append(get_1voting_list(kadencja)),kadencje,df)     "
   ]
  },
  {
   "cell_type": "code",
   "execution_count": 5,
   "metadata": {},
   "outputs": [],
   "source": [
    "voting_df = get_voting_list()"
   ]
  },
  {
   "cell_type": "code",
   "execution_count": 6,
   "metadata": {},
   "outputs": [],
   "source": [
    "voting_df.to_csv('voting_list.csv')"
   ]
  }
 ],
 "metadata": {
  "kernelspec": {
   "display_name": "Python 3",
   "language": "python",
   "name": "python3"
  },
  "language_info": {
   "codemirror_mode": {
    "name": "ipython",
    "version": 3
   },
   "file_extension": ".py",
   "mimetype": "text/x-python",
   "name": "python",
   "nbconvert_exporter": "python",
   "pygments_lexer": "ipython3",
   "version": "3.6.8"
  }
 },
 "nbformat": 4,
 "nbformat_minor": 2
}
