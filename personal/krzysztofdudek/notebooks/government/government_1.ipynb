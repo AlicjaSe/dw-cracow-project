{
 "cells": [
  {
   "cell_type": "code",
   "execution_count": 31,
   "metadata": {
    "pycharm": {
     "is_executing": false,
     "name": "#%%\n"
    }
   },
   "outputs": [],
   "source": [
    "import requests\n",
    "from bs4 import BeautifulSoup\n",
    "\n",
    "import pandas as pd\n",
    "import matplotlib.pyplot as plt\n",
    "from matplotlib import cm"
   ]
  },
  {
   "cell_type": "code",
   "execution_count": 3,
   "metadata": {
    "pycharm": {
     "name": "#%%\n"
    }
   },
   "outputs": [],
   "source": [
    "data = pd.read_hdf('./data/all_of_them_clean.h5')"
   ]
  },
  {
   "cell_type": "code",
   "execution_count": 4,
   "metadata": {},
   "outputs": [
    {
     "data": {
      "text/html": [
       "<div>\n",
       "<style scoped>\n",
       "    .dataframe tbody tr th:only-of-type {\n",
       "        vertical-align: middle;\n",
       "    }\n",
       "\n",
       "    .dataframe tbody tr th {\n",
       "        vertical-align: top;\n",
       "    }\n",
       "\n",
       "    .dataframe thead th {\n",
       "        text-align: right;\n",
       "    }\n",
       "</style>\n",
       "<table border=\"1\" class=\"dataframe\">\n",
       "  <thead>\n",
       "    <tr style=\"text-align: right;\">\n",
       "      <th></th>\n",
       "      <th>kadencja</th>\n",
       "      <th>partia</th>\n",
       "      <th>osoba</th>\n",
       "      <th>glos</th>\n",
       "      <th>nr_posiedzenia</th>\n",
       "      <th>nr_glos</th>\n",
       "      <th>opis</th>\n",
       "      <th>timestamp</th>\n",
       "    </tr>\n",
       "  </thead>\n",
       "  <tbody>\n",
       "    <tr>\n",
       "      <th>0</th>\n",
       "      <td>7.0</td>\n",
       "      <td>PO</td>\n",
       "      <td>Achinger Elżbieta</td>\n",
       "      <td>Nieobecny</td>\n",
       "      <td>102.0</td>\n",
       "      <td>1.0</td>\n",
       "      <td>102 posiedzenie Sejmu Rzeczypospolitej Polskie...</td>\n",
       "      <td>2015-10-08 09:06:44</td>\n",
       "    </tr>\n",
       "    <tr>\n",
       "      <th>1</th>\n",
       "      <td>7.0</td>\n",
       "      <td>PO</td>\n",
       "      <td>Arkit Tadeusz</td>\n",
       "      <td>Przeciw</td>\n",
       "      <td>102.0</td>\n",
       "      <td>1.0</td>\n",
       "      <td>102 posiedzenie Sejmu Rzeczypospolitej Polskie...</td>\n",
       "      <td>2015-10-08 09:06:44</td>\n",
       "    </tr>\n",
       "    <tr>\n",
       "      <th>2</th>\n",
       "      <td>7.0</td>\n",
       "      <td>PO</td>\n",
       "      <td>Arłukowicz Bartosz</td>\n",
       "      <td>Przeciw</td>\n",
       "      <td>102.0</td>\n",
       "      <td>1.0</td>\n",
       "      <td>102 posiedzenie Sejmu Rzeczypospolitej Polskie...</td>\n",
       "      <td>2015-10-08 09:06:44</td>\n",
       "    </tr>\n",
       "    <tr>\n",
       "      <th>3</th>\n",
       "      <td>7.0</td>\n",
       "      <td>PO</td>\n",
       "      <td>Arndt Paweł</td>\n",
       "      <td>Przeciw</td>\n",
       "      <td>102.0</td>\n",
       "      <td>1.0</td>\n",
       "      <td>102 posiedzenie Sejmu Rzeczypospolitej Polskie...</td>\n",
       "      <td>2015-10-08 09:06:44</td>\n",
       "    </tr>\n",
       "    <tr>\n",
       "      <th>4</th>\n",
       "      <td>7.0</td>\n",
       "      <td>PO</td>\n",
       "      <td>Augustyn Urszula</td>\n",
       "      <td>Przeciw</td>\n",
       "      <td>102.0</td>\n",
       "      <td>1.0</td>\n",
       "      <td>102 posiedzenie Sejmu Rzeczypospolitej Polskie...</td>\n",
       "      <td>2015-10-08 09:06:44</td>\n",
       "    </tr>\n",
       "  </tbody>\n",
       "</table>\n",
       "</div>"
      ],
      "text/plain": [
       "   kadencja partia               osoba       glos  nr_posiedzenia  nr_glos  \\\n",
       "0       7.0     PO   Achinger Elżbieta  Nieobecny           102.0      1.0   \n",
       "1       7.0     PO       Arkit Tadeusz    Przeciw           102.0      1.0   \n",
       "2       7.0     PO  Arłukowicz Bartosz    Przeciw           102.0      1.0   \n",
       "3       7.0     PO         Arndt Paweł    Przeciw           102.0      1.0   \n",
       "4       7.0     PO    Augustyn Urszula    Przeciw           102.0      1.0   \n",
       "\n",
       "                                                opis           timestamp  \n",
       "0  102 posiedzenie Sejmu Rzeczypospolitej Polskie... 2015-10-08 09:06:44  \n",
       "1  102 posiedzenie Sejmu Rzeczypospolitej Polskie... 2015-10-08 09:06:44  \n",
       "2  102 posiedzenie Sejmu Rzeczypospolitej Polskie... 2015-10-08 09:06:44  \n",
       "3  102 posiedzenie Sejmu Rzeczypospolitej Polskie... 2015-10-08 09:06:44  \n",
       "4  102 posiedzenie Sejmu Rzeczypospolitej Polskie... 2015-10-08 09:06:44  "
      ]
     },
     "execution_count": 4,
     "metadata": {},
     "output_type": "execute_result"
    }
   ],
   "source": [
    "data.head()"
   ]
  },
  {
   "cell_type": "code",
   "execution_count": 5,
   "metadata": {
    "scrolled": true
   },
   "outputs": [
    {
     "name": "stdout",
     "output_type": "stream",
     "text": [
      "<class 'pandas.core.frame.DataFrame'>\n",
      "Int64Index: 6614370 entries, 0 to 6614369\n",
      "Data columns (total 8 columns):\n",
      "kadencja          float64\n",
      "partia            object\n",
      "osoba             object\n",
      "glos              object\n",
      "nr_posiedzenia    float64\n",
      "nr_glos           float64\n",
      "opis              object\n",
      "timestamp         datetime64[ns]\n",
      "dtypes: datetime64[ns](1), float64(3), object(4)\n",
      "memory usage: 454.2+ MB\n"
     ]
    }
   ],
   "source": [
    "data.info()"
   ]
  },
  {
   "cell_type": "code",
   "execution_count": 6,
   "metadata": {},
   "outputs": [
    {
     "data": {
      "text/plain": [
       "'102 posiedzenie Sejmu Rzeczypospolitej Polskiej w dniach 8 i 9 października 2015 r. - głosowanie nad przyjęciem wniosku o uzupełnienie porządku dziennego o punkt obejmujący informację prezesa Rady Ministrów w sprawie niebezpieczeństw dla państwa polskiego wynikających z procesu prywatyzacji spółki PKP Energetyka SA'"
      ]
     },
     "execution_count": 6,
     "metadata": {},
     "output_type": "execute_result"
    }
   ],
   "source": [
    "data['opis'][0]"
   ]
  },
  {
   "cell_type": "code",
   "execution_count": 7,
   "metadata": {},
   "outputs": [
    {
     "data": {
      "text/plain": [
       "array(['Nieobecny', 'Przeciw', 'Za', 'Wstrzymał się'], dtype=object)"
      ]
     },
     "execution_count": 7,
     "metadata": {},
     "output_type": "execute_result"
    }
   ],
   "source": [
    "data['glos'].unique()"
   ]
  },
  {
   "cell_type": "code",
   "execution_count": 8,
   "metadata": {},
   "outputs": [],
   "source": [
    "vote_cat = {\n",
    "    'Nieobecny':0,\n",
    "    'Przeciw':-1,\n",
    "    'Za':2,\n",
    "    'Wstrzymał się':1\n",
    "}\n"
   ]
  },
  {
   "cell_type": "code",
   "execution_count": 9,
   "metadata": {},
   "outputs": [
    {
     "data": {
      "text/plain": [
       "array(['PO', 'PiS', 'PSL', 'SLD', 'niez.', 'ZP', 'RP', 'BC', 'KPSP', 'TR',\n",
       "       'BiG', 'SP', 'ID', 'PO-KO', 'PSL-KP', 'Kukiz15', 'Konfederacja',\n",
       "       'UPR', 'PP', 'TERAZ!', 'WiS', 'PSL-UED', 'N', 'W-S', 'L-S', 'UED',\n",
       "       'Republikanie', 'ED', 'KO', 'Lewica', 'PSL-Kukiz15'], dtype=object)"
      ]
     },
     "execution_count": 9,
     "metadata": {},
     "output_type": "execute_result"
    }
   ],
   "source": [
    "data['partia'].unique()"
   ]
  },
  {
   "cell_type": "code",
   "execution_count": 10,
   "metadata": {},
   "outputs": [],
   "source": [
    "group_cat = {\n",
    "    'PO':0, 'PiS':1, 'PSL':2, 'SLD':3, 'niez.':4, 'ZP':5, 'RP':6, 'BC':7, 'KPSP':8, 'TR':9,\n",
    "       'BiG':10, 'SP':11, 'ID':12, 'PO-KO':12, 'PSL-KP':13, 'Kukiz15':14, 'Konfederacja':15,\n",
    "       'UPR':16, 'PP':17, 'TERAZ!':18, 'WiS':19, 'PSL-UED':20, 'N':21, 'W-S':22, 'L-S':23, 'UED':24,\n",
    "       'Republikanie':25, 'ED':26, 'KO':27, 'Lewica':28, 'PSL-Kukiz15':29\n",
    "}"
   ]
  },
  {
   "cell_type": "code",
   "execution_count": 11,
   "metadata": {},
   "outputs": [],
   "source": [
    "data['partia_cat']=data['partia'].apply(lambda x: group_cat[x])"
   ]
  },
  {
   "cell_type": "code",
   "execution_count": 12,
   "metadata": {},
   "outputs": [],
   "source": [
    "data['vote_cat']= data['glos'].apply(lambda x: vote_cat[x])"
   ]
  },
  {
   "cell_type": "code",
   "execution_count": 13,
   "metadata": {},
   "outputs": [],
   "source": [
    "data['nr_posiedzenia'] = data['nr_posiedzenia'].astype('int64')"
   ]
  },
  {
   "cell_type": "code",
   "execution_count": 14,
   "metadata": {},
   "outputs": [],
   "source": [
    "data_np102 = data[data['nr_posiedzenia']==102]"
   ]
  },
  {
   "cell_type": "code",
   "execution_count": 15,
   "metadata": {},
   "outputs": [
    {
     "data": {
      "text/html": [
       "<div>\n",
       "<style scoped>\n",
       "    .dataframe tbody tr th:only-of-type {\n",
       "        vertical-align: middle;\n",
       "    }\n",
       "\n",
       "    .dataframe tbody tr th {\n",
       "        vertical-align: top;\n",
       "    }\n",
       "\n",
       "    .dataframe thead th {\n",
       "        text-align: right;\n",
       "    }\n",
       "</style>\n",
       "<table border=\"1\" class=\"dataframe\">\n",
       "  <thead>\n",
       "    <tr style=\"text-align: right;\">\n",
       "      <th></th>\n",
       "      <th>kadencja</th>\n",
       "      <th>partia</th>\n",
       "      <th>osoba</th>\n",
       "      <th>glos</th>\n",
       "      <th>nr_posiedzenia</th>\n",
       "      <th>nr_glos</th>\n",
       "      <th>opis</th>\n",
       "      <th>timestamp</th>\n",
       "      <th>partia_cat</th>\n",
       "      <th>vote_cat</th>\n",
       "    </tr>\n",
       "  </thead>\n",
       "  <tbody>\n",
       "    <tr>\n",
       "      <th>0</th>\n",
       "      <td>7.0</td>\n",
       "      <td>PO</td>\n",
       "      <td>Achinger Elżbieta</td>\n",
       "      <td>Nieobecny</td>\n",
       "      <td>102</td>\n",
       "      <td>1.0</td>\n",
       "      <td>102 posiedzenie Sejmu Rzeczypospolitej Polskie...</td>\n",
       "      <td>2015-10-08 09:06:44</td>\n",
       "      <td>0</td>\n",
       "      <td>0</td>\n",
       "    </tr>\n",
       "    <tr>\n",
       "      <th>1</th>\n",
       "      <td>7.0</td>\n",
       "      <td>PO</td>\n",
       "      <td>Arkit Tadeusz</td>\n",
       "      <td>Przeciw</td>\n",
       "      <td>102</td>\n",
       "      <td>1.0</td>\n",
       "      <td>102 posiedzenie Sejmu Rzeczypospolitej Polskie...</td>\n",
       "      <td>2015-10-08 09:06:44</td>\n",
       "      <td>0</td>\n",
       "      <td>-1</td>\n",
       "    </tr>\n",
       "    <tr>\n",
       "      <th>2</th>\n",
       "      <td>7.0</td>\n",
       "      <td>PO</td>\n",
       "      <td>Arłukowicz Bartosz</td>\n",
       "      <td>Przeciw</td>\n",
       "      <td>102</td>\n",
       "      <td>1.0</td>\n",
       "      <td>102 posiedzenie Sejmu Rzeczypospolitej Polskie...</td>\n",
       "      <td>2015-10-08 09:06:44</td>\n",
       "      <td>0</td>\n",
       "      <td>-1</td>\n",
       "    </tr>\n",
       "    <tr>\n",
       "      <th>3</th>\n",
       "      <td>7.0</td>\n",
       "      <td>PO</td>\n",
       "      <td>Arndt Paweł</td>\n",
       "      <td>Przeciw</td>\n",
       "      <td>102</td>\n",
       "      <td>1.0</td>\n",
       "      <td>102 posiedzenie Sejmu Rzeczypospolitej Polskie...</td>\n",
       "      <td>2015-10-08 09:06:44</td>\n",
       "      <td>0</td>\n",
       "      <td>-1</td>\n",
       "    </tr>\n",
       "    <tr>\n",
       "      <th>4</th>\n",
       "      <td>7.0</td>\n",
       "      <td>PO</td>\n",
       "      <td>Augustyn Urszula</td>\n",
       "      <td>Przeciw</td>\n",
       "      <td>102</td>\n",
       "      <td>1.0</td>\n",
       "      <td>102 posiedzenie Sejmu Rzeczypospolitej Polskie...</td>\n",
       "      <td>2015-10-08 09:06:44</td>\n",
       "      <td>0</td>\n",
       "      <td>-1</td>\n",
       "    </tr>\n",
       "  </tbody>\n",
       "</table>\n",
       "</div>"
      ],
      "text/plain": [
       "   kadencja partia               osoba       glos  nr_posiedzenia  nr_glos  \\\n",
       "0       7.0     PO   Achinger Elżbieta  Nieobecny             102      1.0   \n",
       "1       7.0     PO       Arkit Tadeusz    Przeciw             102      1.0   \n",
       "2       7.0     PO  Arłukowicz Bartosz    Przeciw             102      1.0   \n",
       "3       7.0     PO         Arndt Paweł    Przeciw             102      1.0   \n",
       "4       7.0     PO    Augustyn Urszula    Przeciw             102      1.0   \n",
       "\n",
       "                                                opis           timestamp  \\\n",
       "0  102 posiedzenie Sejmu Rzeczypospolitej Polskie... 2015-10-08 09:06:44   \n",
       "1  102 posiedzenie Sejmu Rzeczypospolitej Polskie... 2015-10-08 09:06:44   \n",
       "2  102 posiedzenie Sejmu Rzeczypospolitej Polskie... 2015-10-08 09:06:44   \n",
       "3  102 posiedzenie Sejmu Rzeczypospolitej Polskie... 2015-10-08 09:06:44   \n",
       "4  102 posiedzenie Sejmu Rzeczypospolitej Polskie... 2015-10-08 09:06:44   \n",
       "\n",
       "   partia_cat  vote_cat  \n",
       "0           0         0  \n",
       "1           0        -1  \n",
       "2           0        -1  \n",
       "3           0        -1  \n",
       "4           0        -1  "
      ]
     },
     "execution_count": 15,
     "metadata": {},
     "output_type": "execute_result"
    }
   ],
   "source": [
    "data_np102.head()"
   ]
  },
  {
   "cell_type": "code",
   "execution_count": 16,
   "metadata": {},
   "outputs": [],
   "source": [
    "d_g = data_np102[['partia','nr_glos','vote_cat']].groupby(['partia','nr_glos'])"
   ]
  },
  {
   "cell_type": "code",
   "execution_count": 28,
   "metadata": {},
   "outputs": [],
   "source": [
    "group_col = 'partia'"
   ]
  },
  {
   "cell_type": "code",
   "execution_count": 35,
   "metadata": {},
   "outputs": [],
   "source": [
    "g = data_np102[data_np102['nr_glos']==39][[group_col,'vote_cat']].groupby(group_col)"
   ]
  },
  {
   "cell_type": "code",
   "execution_count": 56,
   "metadata": {},
   "outputs": [
    {
     "data": {
      "image/png": "[encoded data removed]",
      "text/plain": [
       "<Figure size 432x288 with 8 Axes>"
      ]
     },
     "metadata": {
      "needs_background": "light"
     },
     "output_type": "display_data"
    }
   ],
   "source": [
    "num_groups = g.ngroups\n",
    "\n",
    "fig, axes = plt.subplots(num_groups)\n",
    "\n",
    "for i, (k, group) in enumerate(g):\n",
    "    ax = axes[i]\n",
    "    ax.set_title(k)\n",
    "    group = group[[c for c in group.columns if c != group_col]]\n",
    "    num_columns = len(group.columns)\n",
    "    ax.hist(group.values, 10, histtype='bar',\n",
    "            label=list(group.columns),\n",
    "             edgecolor='white')\n",
    "    #ax.legend()\n",
    "\n",
    "plt.show()"
   ]
  },
  {
   "cell_type": "code",
   "execution_count": 63,
   "metadata": {},
   "outputs": [
    {
     "data": {
      "image/png": "[encoded data removed]",
      "text/plain": [
       "<Figure size 432x288 with 1 Axes>"
      ]
     },
     "metadata": {
      "needs_background": "light"
     },
     "output_type": "display_data"
    },
    {
     "data": {
      "image/png": "[encoded data removed]",
      "text/plain": [
       "<Figure size 432x288 with 1 Axes>"
      ]
     },
     "metadata": {
      "needs_background": "light"
     },
     "output_type": "display_data"
    },
    {
     "data": {
      "image/png": "[encoded data removed]",
      "text/plain": [
       "<Figure size 432x288 with 1 Axes>"
      ]
     },
     "metadata": {
      "needs_background": "light"
     },
     "output_type": "display_data"
    },
    {
     "data": {
      "image/png": "[encoded data removed]",
      "text/plain": [
       "<Figure size 432x288 with 1 Axes>"
      ]
     },
     "metadata": {
      "needs_background": "light"
     },
     "output_type": "display_data"
    },
    {
     "data": {
      "image/png": "[encoded data removed]",
      "text/plain": [
       "<Figure size 432x288 with 1 Axes>"
      ]
     },
     "metadata": {
      "needs_background": "light"
     },
     "output_type": "display_data"
    },
    {
     "data": {
      "image/png": "[encoded data removed]",
      "text/plain": [
       "<Figure size 432x288 with 1 Axes>"
      ]
     },
     "metadata": {
      "needs_background": "light"
     },
     "output_type": "display_data"
    },
    {
     "data": {
      "image/png": "[encoded data removed]",
      "text/plain": [
       "<Figure size 432x288 with 1 Axes>"
      ]
     },
     "metadata": {
      "needs_background": "light"
     },
     "output_type": "display_data"
    },
    {
     "data": {
      "image/png": "[encoded data removed]",
      "text/plain": [
       "<Figure size 432x288 with 1 Axes>"
      ]
     },
     "metadata": {
      "needs_background": "light"
     },
     "output_type": "display_data"
    }
   ],
   "source": [
    "for i, (k, group) in enumerate(g):\n",
    "   \n",
    "    group = group[[c for c in group.columns if c != group_col]]\n",
    "    num_columns = len(group.columns)\n",
    "    plt.hist(group.values, 10, histtype='bar',`\n",
    "            label=list(group.columns),\n",
    "             edgecolor='white', )\n",
    "    plt.show()"
   ]
  },
  {
   "cell_type": "code",
   "execution_count": null,
   "metadata": {},
   "outputs": [],
   "source": []
  },
  {
   "cell_type": "code",
   "execution_count": 23,
   "metadata": {},
   "outputs": [
    {
     "data": {
      "text/html": [
       "<div>\n",
       "<style scoped>\n",
       "    .dataframe tbody tr th:only-of-type {\n",
       "        vertical-align: middle;\n",
       "    }\n",
       "\n",
       "    .dataframe tbody tr th {\n",
       "        vertical-align: top;\n",
       "    }\n",
       "\n",
       "    .dataframe thead th {\n",
       "        text-align: right;\n",
       "    }\n",
       "</style>\n",
       "<table border=\"1\" class=\"dataframe\">\n",
       "  <thead>\n",
       "    <tr style=\"text-align: right;\">\n",
       "      <th></th>\n",
       "      <th>kadencja</th>\n",
       "      <th>nr_glos</th>\n",
       "      <th>vote_cat</th>\n",
       "    </tr>\n",
       "    <tr>\n",
       "      <th>nr_posiedzenia</th>\n",
       "      <th></th>\n",
       "      <th></th>\n",
       "      <th></th>\n",
       "    </tr>\n",
       "  </thead>\n",
       "  <tbody>\n",
       "    <tr>\n",
       "      <th>1</th>\n",
       "      <td>622268.0</td>\n",
       "      <td>2448494.0</td>\n",
       "      <td>72733</td>\n",
       "    </tr>\n",
       "    <tr>\n",
       "      <th>2</th>\n",
       "      <td>109940.0</td>\n",
       "      <td>200560.0</td>\n",
       "      <td>13655</td>\n",
       "    </tr>\n",
       "    <tr>\n",
       "      <th>3</th>\n",
       "      <td>127853.0</td>\n",
       "      <td>204977.0</td>\n",
       "      <td>10980</td>\n",
       "    </tr>\n",
       "    <tr>\n",
       "      <th>4</th>\n",
       "      <td>69432.0</td>\n",
       "      <td>51050.0</td>\n",
       "      <td>5724</td>\n",
       "    </tr>\n",
       "    <tr>\n",
       "      <th>5</th>\n",
       "      <td>263712.0</td>\n",
       "      <td>688178.0</td>\n",
       "      <td>21519</td>\n",
       "    </tr>\n",
       "    <tr>\n",
       "      <th>6</th>\n",
       "      <td>310008.0</td>\n",
       "      <td>1262690.0</td>\n",
       "      <td>38080</td>\n",
       "    </tr>\n",
       "    <tr>\n",
       "      <th>7</th>\n",
       "      <td>923220.0</td>\n",
       "      <td>10731800.0</td>\n",
       "      <td>32800</td>\n",
       "    </tr>\n",
       "    <tr>\n",
       "      <th>8</th>\n",
       "      <td>108100.0</td>\n",
       "      <td>156400.0</td>\n",
       "      <td>5608</td>\n",
       "    </tr>\n",
       "    <tr>\n",
       "      <th>9</th>\n",
       "      <td>215740.0</td>\n",
       "      <td>1047880.0</td>\n",
       "      <td>17808</td>\n",
       "    </tr>\n",
       "    <tr>\n",
       "      <th>10</th>\n",
       "      <td>1474760.0</td>\n",
       "      <td>32016460.0</td>\n",
       "      <td>66747</td>\n",
       "    </tr>\n",
       "    <tr>\n",
       "      <th>11</th>\n",
       "      <td>220800.0</td>\n",
       "      <td>496800.0</td>\n",
       "      <td>20224</td>\n",
       "    </tr>\n",
       "    <tr>\n",
       "      <th>12</th>\n",
       "      <td>227240.0</td>\n",
       "      <td>520260.0</td>\n",
       "      <td>2695</td>\n",
       "    </tr>\n",
       "    <tr>\n",
       "      <th>13</th>\n",
       "      <td>310500.0</td>\n",
       "      <td>952200.0</td>\n",
       "      <td>30365</td>\n",
       "    </tr>\n",
       "    <tr>\n",
       "      <th>14</th>\n",
       "      <td>448960.0</td>\n",
       "      <td>2144520.0</td>\n",
       "      <td>33998</td>\n",
       "    </tr>\n",
       "    <tr>\n",
       "      <th>15</th>\n",
       "      <td>655500.0</td>\n",
       "      <td>4884740.0</td>\n",
       "      <td>25755</td>\n",
       "    </tr>\n",
       "    <tr>\n",
       "      <th>16</th>\n",
       "      <td>274620.0</td>\n",
       "      <td>1171620.0</td>\n",
       "      <td>1382</td>\n",
       "    </tr>\n",
       "    <tr>\n",
       "      <th>17</th>\n",
       "      <td>112700.0</td>\n",
       "      <td>289800.0</td>\n",
       "      <td>8069</td>\n",
       "    </tr>\n",
       "    <tr>\n",
       "      <th>18</th>\n",
       "      <td>272780.0</td>\n",
       "      <td>810060.0</td>\n",
       "      <td>16445</td>\n",
       "    </tr>\n",
       "    <tr>\n",
       "      <th>19</th>\n",
       "      <td>474420.0</td>\n",
       "      <td>2451840.0</td>\n",
       "      <td>31942</td>\n",
       "    </tr>\n",
       "    <tr>\n",
       "      <th>20</th>\n",
       "      <td>616400.0</td>\n",
       "      <td>5336920.0</td>\n",
       "      <td>19253</td>\n",
       "    </tr>\n",
       "    <tr>\n",
       "      <th>21</th>\n",
       "      <td>694600.0</td>\n",
       "      <td>5764260.0</td>\n",
       "      <td>4011</td>\n",
       "    </tr>\n",
       "    <tr>\n",
       "      <th>22</th>\n",
       "      <td>392904.0</td>\n",
       "      <td>2652102.0</td>\n",
       "      <td>23934</td>\n",
       "    </tr>\n",
       "    <tr>\n",
       "      <th>23</th>\n",
       "      <td>734160.0</td>\n",
       "      <td>5280340.0</td>\n",
       "      <td>51100</td>\n",
       "    </tr>\n",
       "    <tr>\n",
       "      <th>24</th>\n",
       "      <td>212060.0</td>\n",
       "      <td>483460.0</td>\n",
       "      <td>16828</td>\n",
       "    </tr>\n",
       "    <tr>\n",
       "      <th>25</th>\n",
       "      <td>209760.0</td>\n",
       "      <td>596160.0</td>\n",
       "      <td>19398</td>\n",
       "    </tr>\n",
       "    <tr>\n",
       "      <th>26</th>\n",
       "      <td>218500.0</td>\n",
       "      <td>572700.0</td>\n",
       "      <td>10722</td>\n",
       "    </tr>\n",
       "    <tr>\n",
       "      <th>27</th>\n",
       "      <td>269560.0</td>\n",
       "      <td>755320.0</td>\n",
       "      <td>31225</td>\n",
       "    </tr>\n",
       "    <tr>\n",
       "      <th>28</th>\n",
       "      <td>404340.0</td>\n",
       "      <td>1691420.0</td>\n",
       "      <td>28059</td>\n",
       "    </tr>\n",
       "    <tr>\n",
       "      <th>29</th>\n",
       "      <td>298080.0</td>\n",
       "      <td>1527660.0</td>\n",
       "      <td>24753</td>\n",
       "    </tr>\n",
       "    <tr>\n",
       "      <th>30</th>\n",
       "      <td>1270060.0</td>\n",
       "      <td>24495460.0</td>\n",
       "      <td>31996</td>\n",
       "    </tr>\n",
       "    <tr>\n",
       "      <th>...</th>\n",
       "      <td>...</td>\n",
       "      <td>...</td>\n",
       "      <td>...</td>\n",
       "    </tr>\n",
       "    <tr>\n",
       "      <th>72</th>\n",
       "      <td>452968.0</td>\n",
       "      <td>2100001.0</td>\n",
       "      <td>54953</td>\n",
       "    </tr>\n",
       "    <tr>\n",
       "      <th>73</th>\n",
       "      <td>488980.0</td>\n",
       "      <td>2550700.0</td>\n",
       "      <td>-822</td>\n",
       "    </tr>\n",
       "    <tr>\n",
       "      <th>74</th>\n",
       "      <td>298252.0</td>\n",
       "      <td>1156575.0</td>\n",
       "      <td>28286</td>\n",
       "    </tr>\n",
       "    <tr>\n",
       "      <th>75</th>\n",
       "      <td>196572.0</td>\n",
       "      <td>509610.0</td>\n",
       "      <td>1627</td>\n",
       "    </tr>\n",
       "    <tr>\n",
       "      <th>76</th>\n",
       "      <td>1709820.0</td>\n",
       "      <td>49201140.0</td>\n",
       "      <td>83991</td>\n",
       "    </tr>\n",
       "    <tr>\n",
       "      <th>77</th>\n",
       "      <td>781540.0</td>\n",
       "      <td>7034320.0</td>\n",
       "      <td>61364</td>\n",
       "    </tr>\n",
       "    <tr>\n",
       "      <th>78</th>\n",
       "      <td>383180.0</td>\n",
       "      <td>1518000.0</td>\n",
       "      <td>34441</td>\n",
       "    </tr>\n",
       "    <tr>\n",
       "      <th>79</th>\n",
       "      <td>386839.0</td>\n",
       "      <td>1513854.0</td>\n",
       "      <td>2621</td>\n",
       "    </tr>\n",
       "    <tr>\n",
       "      <th>80</th>\n",
       "      <td>642160.0</td>\n",
       "      <td>4197960.0</td>\n",
       "      <td>35041</td>\n",
       "    </tr>\n",
       "    <tr>\n",
       "      <th>81</th>\n",
       "      <td>534702.0</td>\n",
       "      <td>2927552.0</td>\n",
       "      <td>29038</td>\n",
       "    </tr>\n",
       "    <tr>\n",
       "      <th>82</th>\n",
       "      <td>484656.0</td>\n",
       "      <td>4029081.0</td>\n",
       "      <td>29551</td>\n",
       "    </tr>\n",
       "    <tr>\n",
       "      <th>83</th>\n",
       "      <td>1070533.0</td>\n",
       "      <td>12373276.0</td>\n",
       "      <td>86144</td>\n",
       "    </tr>\n",
       "    <tr>\n",
       "      <th>84</th>\n",
       "      <td>1325623.0</td>\n",
       "      <td>17433708.0</td>\n",
       "      <td>76183</td>\n",
       "    </tr>\n",
       "    <tr>\n",
       "      <th>85</th>\n",
       "      <td>280558.0</td>\n",
       "      <td>1224039.0</td>\n",
       "      <td>28151</td>\n",
       "    </tr>\n",
       "    <tr>\n",
       "      <th>86</th>\n",
       "      <td>598322.0</td>\n",
       "      <td>4090852.0</td>\n",
       "      <td>81089</td>\n",
       "    </tr>\n",
       "    <tr>\n",
       "      <th>87</th>\n",
       "      <td>463680.0</td>\n",
       "      <td>4802400.0</td>\n",
       "      <td>-6240</td>\n",
       "    </tr>\n",
       "    <tr>\n",
       "      <th>88</th>\n",
       "      <td>48300.0</td>\n",
       "      <td>55200.0</td>\n",
       "      <td>6521</td>\n",
       "    </tr>\n",
       "    <tr>\n",
       "      <th>89</th>\n",
       "      <td>231336.0</td>\n",
       "      <td>1206252.0</td>\n",
       "      <td>11376</td>\n",
       "    </tr>\n",
       "    <tr>\n",
       "      <th>90</th>\n",
       "      <td>260820.0</td>\n",
       "      <td>1530420.0</td>\n",
       "      <td>6485</td>\n",
       "    </tr>\n",
       "    <tr>\n",
       "      <th>91</th>\n",
       "      <td>164220.0</td>\n",
       "      <td>611340.0</td>\n",
       "      <td>10833</td>\n",
       "    </tr>\n",
       "    <tr>\n",
       "      <th>92</th>\n",
       "      <td>631120.0</td>\n",
       "      <td>8960800.0</td>\n",
       "      <td>-25</td>\n",
       "    </tr>\n",
       "    <tr>\n",
       "      <th>93</th>\n",
       "      <td>247940.0</td>\n",
       "      <td>1381380.0</td>\n",
       "      <td>18907</td>\n",
       "    </tr>\n",
       "    <tr>\n",
       "      <th>94</th>\n",
       "      <td>125307.0</td>\n",
       "      <td>358020.0</td>\n",
       "      <td>20348</td>\n",
       "    </tr>\n",
       "    <tr>\n",
       "      <th>95</th>\n",
       "      <td>505540.0</td>\n",
       "      <td>5777600.0</td>\n",
       "      <td>1841</td>\n",
       "    </tr>\n",
       "    <tr>\n",
       "      <th>96</th>\n",
       "      <td>454020.0</td>\n",
       "      <td>4605060.0</td>\n",
       "      <td>41926</td>\n",
       "    </tr>\n",
       "    <tr>\n",
       "      <th>97</th>\n",
       "      <td>476560.0</td>\n",
       "      <td>5072420.0</td>\n",
       "      <td>18339</td>\n",
       "    </tr>\n",
       "    <tr>\n",
       "      <th>98</th>\n",
       "      <td>457240.0</td>\n",
       "      <td>4670380.0</td>\n",
       "      <td>28719</td>\n",
       "    </tr>\n",
       "    <tr>\n",
       "      <th>99</th>\n",
       "      <td>528080.0</td>\n",
       "      <td>6337420.0</td>\n",
       "      <td>-4060</td>\n",
       "    </tr>\n",
       "    <tr>\n",
       "      <th>101</th>\n",
       "      <td>254380.0</td>\n",
       "      <td>1453600.0</td>\n",
       "      <td>41807</td>\n",
       "    </tr>\n",
       "    <tr>\n",
       "      <th>102</th>\n",
       "      <td>257600.0</td>\n",
       "      <td>1490400.0</td>\n",
       "      <td>-10390</td>\n",
       "    </tr>\n",
       "  </tbody>\n",
       "</table>\n",
       "<p>101 rows × 3 columns</p>\n",
       "</div>"
      ],
      "text/plain": [
       "                 kadencja     nr_glos  vote_cat\n",
       "nr_posiedzenia                                 \n",
       "1                622268.0   2448494.0     72733\n",
       "2                109940.0    200560.0     13655\n",
       "3                127853.0    204977.0     10980\n",
       "4                 69432.0     51050.0      5724\n",
       "5                263712.0    688178.0     21519\n",
       "6                310008.0   1262690.0     38080\n",
       "7                923220.0  10731800.0     32800\n",
       "8                108100.0    156400.0      5608\n",
       "9                215740.0   1047880.0     17808\n",
       "10              1474760.0  32016460.0     66747\n",
       "11               220800.0    496800.0     20224\n",
       "12               227240.0    520260.0      2695\n",
       "13               310500.0    952200.0     30365\n",
       "14               448960.0   2144520.0     33998\n",
       "15               655500.0   4884740.0     25755\n",
       "16               274620.0   1171620.0      1382\n",
       "17               112700.0    289800.0      8069\n",
       "18               272780.0    810060.0     16445\n",
       "19               474420.0   2451840.0     31942\n",
       "20               616400.0   5336920.0     19253\n",
       "21               694600.0   5764260.0      4011\n",
       "22               392904.0   2652102.0     23934\n",
       "23               734160.0   5280340.0     51100\n",
       "24               212060.0    483460.0     16828\n",
       "25               209760.0    596160.0     19398\n",
       "26               218500.0    572700.0     10722\n",
       "27               269560.0    755320.0     31225\n",
       "28               404340.0   1691420.0     28059\n",
       "29               298080.0   1527660.0     24753\n",
       "30              1270060.0  24495460.0     31996\n",
       "...                   ...         ...       ...\n",
       "72               452968.0   2100001.0     54953\n",
       "73               488980.0   2550700.0      -822\n",
       "74               298252.0   1156575.0     28286\n",
       "75               196572.0    509610.0      1627\n",
       "76              1709820.0  49201140.0     83991\n",
       "77               781540.0   7034320.0     61364\n",
       "78               383180.0   1518000.0     34441\n",
       "79               386839.0   1513854.0      2621\n",
       "80               642160.0   4197960.0     35041\n",
       "81               534702.0   2927552.0     29038\n",
       "82               484656.0   4029081.0     29551\n",
       "83              1070533.0  12373276.0     86144\n",
       "84              1325623.0  17433708.0     76183\n",
       "85               280558.0   1224039.0     28151\n",
       "86               598322.0   4090852.0     81089\n",
       "87               463680.0   4802400.0     -6240\n",
       "88                48300.0     55200.0      6521\n",
       "89               231336.0   1206252.0     11376\n",
       "90               260820.0   1530420.0      6485\n",
       "91               164220.0    611340.0     10833\n",
       "92               631120.0   8960800.0       -25\n",
       "93               247940.0   1381380.0     18907\n",
       "94               125307.0    358020.0     20348\n",
       "95               505540.0   5777600.0      1841\n",
       "96               454020.0   4605060.0     41926\n",
       "97               476560.0   5072420.0     18339\n",
       "98               457240.0   4670380.0     28719\n",
       "99               528080.0   6337420.0     -4060\n",
       "101              254380.0   1453600.0     41807\n",
       "102              257600.0   1490400.0    -10390\n",
       "\n",
       "[101 rows x 3 columns]"
      ]
     },
     "execution_count": 23,
     "metadata": {},
     "output_type": "execute_result"
    }
   ],
   "source": [
    "data.groupby('nr_posiedzenia').sum()"
   ]
  },
  {
   "cell_type": "code",
   "execution_count": null,
   "metadata": {},
   "outputs": [],
   "source": []
  }
 ],
 "metadata": {
  "kernelspec": {
   "display_name": "Python 3",
   "language": "python",
   "name": "python3"
  },
  "language_info": {
   "codemirror_mode": {
    "name": "ipython",
    "version": 3
   },
   "file_extension": ".py",
   "mimetype": "text/x-python",
   "name": "python",
   "nbconvert_exporter": "python",
   "pygments_lexer": "ipython3",
   "version": "3.7.3"
  },
  "pycharm": {
   "stem_cell": {
    "cell_type": "raw",
    "metadata": {
     "collapsed": false
    },
    "source": []
   }
  }
 },
 "nbformat": 4,
 "nbformat_minor": 1
}
