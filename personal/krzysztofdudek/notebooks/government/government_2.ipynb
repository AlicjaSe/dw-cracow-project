{
 "cells": [
  {
   "cell_type": "code",
   "execution_count": 1,
   "metadata": {
    "pycharm": {
     "is_executing": false,
     "name": "#%%\n"
    }
   },
   "outputs": [],
   "source": [
    "import requests\n",
    "from bs4 import BeautifulSoup\n",
    "\n",
    "import pandas as pd\n",
    "import matplotlib.pyplot as plt\n",
    "from matplotlib import cm"
   ]
  },
  {
   "cell_type": "code",
   "execution_count": 2,
   "metadata": {
    "pycharm": {
     "name": "#%%\n"
    }
   },
   "outputs": [],
   "source": [
    "data = pd.read_hdf('./data/all_of_them_clean.h5')"
   ]
  },
  {
   "cell_type": "code",
   "execution_count": 3,
   "metadata": {},
   "outputs": [
    {
     "data": {
      "text/html": [
       "<div>\n",
       "<style scoped>\n",
       "    .dataframe tbody tr th:only-of-type {\n",
       "        vertical-align: middle;\n",
       "    }\n",
       "\n",
       "    .dataframe tbody tr th {\n",
       "        vertical-align: top;\n",
       "    }\n",
       "\n",
       "    .dataframe thead th {\n",
       "        text-align: right;\n",
       "    }\n",
       "</style>\n",
       "<table border=\"1\" class=\"dataframe\">\n",
       "  <thead>\n",
       "    <tr style=\"text-align: right;\">\n",
       "      <th></th>\n",
       "      <th>kadencja</th>\n",
       "      <th>partia</th>\n",
       "      <th>osoba</th>\n",
       "      <th>glos</th>\n",
       "      <th>nr_posiedzenia</th>\n",
       "      <th>nr_glos</th>\n",
       "      <th>opis</th>\n",
       "      <th>timestamp</th>\n",
       "    </tr>\n",
       "  </thead>\n",
       "  <tbody>\n",
       "    <tr>\n",
       "      <th>0</th>\n",
       "      <td>7.0</td>\n",
       "      <td>PO</td>\n",
       "      <td>Achinger Elżbieta</td>\n",
       "      <td>Nieobecny</td>\n",
       "      <td>102.0</td>\n",
       "      <td>1.0</td>\n",
       "      <td>102 posiedzenie Sejmu Rzeczypospolitej Polskie...</td>\n",
       "      <td>2015-10-08 09:06:44</td>\n",
       "    </tr>\n",
       "    <tr>\n",
       "      <th>1</th>\n",
       "      <td>7.0</td>\n",
       "      <td>PO</td>\n",
       "      <td>Arkit Tadeusz</td>\n",
       "      <td>Przeciw</td>\n",
       "      <td>102.0</td>\n",
       "      <td>1.0</td>\n",
       "      <td>102 posiedzenie Sejmu Rzeczypospolitej Polskie...</td>\n",
       "      <td>2015-10-08 09:06:44</td>\n",
       "    </tr>\n",
       "    <tr>\n",
       "      <th>2</th>\n",
       "      <td>7.0</td>\n",
       "      <td>PO</td>\n",
       "      <td>Arłukowicz Bartosz</td>\n",
       "      <td>Przeciw</td>\n",
       "      <td>102.0</td>\n",
       "      <td>1.0</td>\n",
       "      <td>102 posiedzenie Sejmu Rzeczypospolitej Polskie...</td>\n",
       "      <td>2015-10-08 09:06:44</td>\n",
       "    </tr>\n",
       "    <tr>\n",
       "      <th>3</th>\n",
       "      <td>7.0</td>\n",
       "      <td>PO</td>\n",
       "      <td>Arndt Paweł</td>\n",
       "      <td>Przeciw</td>\n",
       "      <td>102.0</td>\n",
       "      <td>1.0</td>\n",
       "      <td>102 posiedzenie Sejmu Rzeczypospolitej Polskie...</td>\n",
       "      <td>2015-10-08 09:06:44</td>\n",
       "    </tr>\n",
       "    <tr>\n",
       "      <th>4</th>\n",
       "      <td>7.0</td>\n",
       "      <td>PO</td>\n",
       "      <td>Augustyn Urszula</td>\n",
       "      <td>Przeciw</td>\n",
       "      <td>102.0</td>\n",
       "      <td>1.0</td>\n",
       "      <td>102 posiedzenie Sejmu Rzeczypospolitej Polskie...</td>\n",
       "      <td>2015-10-08 09:06:44</td>\n",
       "    </tr>\n",
       "  </tbody>\n",
       "</table>\n",
       "</div>"
      ],
      "text/plain": [
       "   kadencja partia               osoba       glos  nr_posiedzenia  nr_glos  \\\n",
       "0       7.0     PO   Achinger Elżbieta  Nieobecny           102.0      1.0   \n",
       "1       7.0     PO       Arkit Tadeusz    Przeciw           102.0      1.0   \n",
       "2       7.0     PO  Arłukowicz Bartosz    Przeciw           102.0      1.0   \n",
       "3       7.0     PO         Arndt Paweł    Przeciw           102.0      1.0   \n",
       "4       7.0     PO    Augustyn Urszula    Przeciw           102.0      1.0   \n",
       "\n",
       "                                                opis           timestamp  \n",
       "0  102 posiedzenie Sejmu Rzeczypospolitej Polskie... 2015-10-08 09:06:44  \n",
       "1  102 posiedzenie Sejmu Rzeczypospolitej Polskie... 2015-10-08 09:06:44  \n",
       "2  102 posiedzenie Sejmu Rzeczypospolitej Polskie... 2015-10-08 09:06:44  \n",
       "3  102 posiedzenie Sejmu Rzeczypospolitej Polskie... 2015-10-08 09:06:44  \n",
       "4  102 posiedzenie Sejmu Rzeczypospolitej Polskie... 2015-10-08 09:06:44  "
      ]
     },
     "execution_count": 3,
     "metadata": {},
     "output_type": "execute_result"
    }
   ],
   "source": [
    "data.head()"
   ]
  },
  {
   "cell_type": "code",
   "execution_count": 5,
   "metadata": {
    "scrolled": true
   },
   "outputs": [
    {
     "name": "stdout",
     "output_type": "stream",
     "text": [
      "<class 'pandas.core.frame.DataFrame'>\n",
      "Int64Index: 6614370 entries, 0 to 6614369\n",
      "Data columns (total 8 columns):\n",
      "kadencja          float64\n",
      "partia            object\n",
      "osoba             object\n",
      "glos              object\n",
      "nr_posiedzenia    float64\n",
      "nr_glos           float64\n",
      "opis              object\n",
      "timestamp         datetime64[ns]\n",
      "dtypes: datetime64[ns](1), float64(3), object(4)\n",
      "memory usage: 454.2+ MB\n"
     ]
    }
   ],
   "source": [
    "data.info()"
   ]
  },
  {
   "cell_type": "code",
   "execution_count": 6,
   "metadata": {},
   "outputs": [
    {
     "data": {
      "text/plain": [
       "'102 posiedzenie Sejmu Rzeczypospolitej Polskiej w dniach 8 i 9 października 2015 r. - głosowanie nad przyjęciem wniosku o uzupełnienie porządku dziennego o punkt obejmujący informację prezesa Rady Ministrów w sprawie niebezpieczeństw dla państwa polskiego wynikających z procesu prywatyzacji spółki PKP Energetyka SA'"
      ]
     },
     "execution_count": 6,
     "metadata": {},
     "output_type": "execute_result"
    }
   ],
   "source": [
    "data['opis'][0]"
   ]
  },
  {
   "cell_type": "code",
   "execution_count": 7,
   "metadata": {},
   "outputs": [
    {
     "data": {
      "text/plain": [
       "array(['Nieobecny', 'Przeciw', 'Za', 'Wstrzymał się'], dtype=object)"
      ]
     },
     "execution_count": 7,
     "metadata": {},
     "output_type": "execute_result"
    }
   ],
   "source": [
    "data['glos'].unique()"
   ]
  },
  {
   "cell_type": "code",
   "execution_count": 8,
   "metadata": {},
   "outputs": [],
   "source": [
    "vote_cat = {\n",
    "    'Nieobecny':0,\n",
    "    'Przeciw':-1,\n",
    "    'Za':2,\n",
    "    'Wstrzymał się':1\n",
    "}\n"
   ]
  },
  {
   "cell_type": "code",
   "execution_count": 9,
   "metadata": {},
   "outputs": [
    {
     "data": {
      "text/plain": [
       "array(['PO', 'PiS', 'PSL', 'SLD', 'niez.', 'ZP', 'RP', 'BC', 'KPSP', 'TR',\n",
       "       'BiG', 'SP', 'ID', 'PO-KO', 'PSL-KP', 'Kukiz15', 'Konfederacja',\n",
       "       'UPR', 'PP', 'TERAZ!', 'WiS', 'PSL-UED', 'N', 'W-S', 'L-S', 'UED',\n",
       "       'Republikanie', 'ED', 'KO', 'Lewica', 'PSL-Kukiz15'], dtype=object)"
      ]
     },
     "execution_count": 9,
     "metadata": {},
     "output_type": "execute_result"
    }
   ],
   "source": [
    "data['partia'].unique()"
   ]
  },
  {
   "cell_type": "code",
   "execution_count": 10,
   "metadata": {},
   "outputs": [],
   "source": [
    "group_cat = {\n",
    "    'PO':0, 'PiS':1, 'PSL':2, 'SLD':3, 'niez.':4, 'ZP':5, 'RP':6, 'BC':7, 'KPSP':8, 'TR':9,\n",
    "       'BiG':10, 'SP':11, 'ID':12, 'PO-KO':12, 'PSL-KP':13, 'Kukiz15':14, 'Konfederacja':15,\n",
    "       'UPR':16, 'PP':17, 'TERAZ!':18, 'WiS':19, 'PSL-UED':20, 'N':21, 'W-S':22, 'L-S':23, 'UED':24,\n",
    "       'Republikanie':25, 'ED':26, 'KO':27, 'Lewica':28, 'PSL-Kukiz15':29\n",
    "}"
   ]
  },
  {
   "cell_type": "code",
   "execution_count": 11,
   "metadata": {},
   "outputs": [],
   "source": [
    "data['partia_cat']=data['partia'].apply(lambda x: group_cat[x])"
   ]
  },
  {
   "cell_type": "code",
   "execution_count": 12,
   "metadata": {},
   "outputs": [],
   "source": [
    "data['vote_cat']= data['glos'].apply(lambda x: vote_cat[x])"
   ]
  },
  {
   "cell_type": "code",
   "execution_count": 13,
   "metadata": {},
   "outputs": [],
   "source": [
    "data['nr_posiedzenia'] = data['nr_posiedzenia'].astype('int64')"
   ]
  },
  {
   "cell_type": "code",
   "execution_count": 14,
   "metadata": {},
   "outputs": [],
   "source": [
    "data_np102 = data[data['nr_posiedzenia']==102]"
   ]
  },
  {
   "cell_type": "code",
   "execution_count": 15,
   "metadata": {},
   "outputs": [
    {
     "data": {
      "text/html": [
       "<div>\n",
       "<style scoped>\n",
       "    .dataframe tbody tr th:only-of-type {\n",
       "        vertical-align: middle;\n",
       "    }\n",
       "\n",
       "    .dataframe tbody tr th {\n",
       "        vertical-align: top;\n",
       "    }\n",
       "\n",
       "    .dataframe thead th {\n",
       "        text-align: right;\n",
       "    }\n",
       "</style>\n",
       "<table border=\"1\" class=\"dataframe\">\n",
       "  <thead>\n",
       "    <tr style=\"text-align: right;\">\n",
       "      <th></th>\n",
       "      <th>kadencja</th>\n",
       "      <th>partia</th>\n",
       "      <th>osoba</th>\n",
       "      <th>glos</th>\n",
       "      <th>nr_posiedzenia</th>\n",
       "      <th>nr_glos</th>\n",
       "      <th>opis</th>\n",
       "      <th>timestamp</th>\n",
       "      <th>partia_cat</th>\n",
       "      <th>vote_cat</th>\n",
       "    </tr>\n",
       "  </thead>\n",
       "  <tbody>\n",
       "    <tr>\n",
       "      <th>0</th>\n",
       "      <td>7.0</td>\n",
       "      <td>PO</td>\n",
       "      <td>Achinger Elżbieta</td>\n",
       "      <td>Nieobecny</td>\n",
       "      <td>102</td>\n",
       "      <td>1.0</td>\n",
       "      <td>102 posiedzenie Sejmu Rzeczypospolitej Polskie...</td>\n",
       "      <td>2015-10-08 09:06:44</td>\n",
       "      <td>0</td>\n",
       "      <td>0</td>\n",
       "    </tr>\n",
       "    <tr>\n",
       "      <th>1</th>\n",
       "      <td>7.0</td>\n",
       "      <td>PO</td>\n",
       "      <td>Arkit Tadeusz</td>\n",
       "      <td>Przeciw</td>\n",
       "      <td>102</td>\n",
       "      <td>1.0</td>\n",
       "      <td>102 posiedzenie Sejmu Rzeczypospolitej Polskie...</td>\n",
       "      <td>2015-10-08 09:06:44</td>\n",
       "      <td>0</td>\n",
       "      <td>-1</td>\n",
       "    </tr>\n",
       "    <tr>\n",
       "      <th>2</th>\n",
       "      <td>7.0</td>\n",
       "      <td>PO</td>\n",
       "      <td>Arłukowicz Bartosz</td>\n",
       "      <td>Przeciw</td>\n",
       "      <td>102</td>\n",
       "      <td>1.0</td>\n",
       "      <td>102 posiedzenie Sejmu Rzeczypospolitej Polskie...</td>\n",
       "      <td>2015-10-08 09:06:44</td>\n",
       "      <td>0</td>\n",
       "      <td>-1</td>\n",
       "    </tr>\n",
       "    <tr>\n",
       "      <th>3</th>\n",
       "      <td>7.0</td>\n",
       "      <td>PO</td>\n",
       "      <td>Arndt Paweł</td>\n",
       "      <td>Przeciw</td>\n",
       "      <td>102</td>\n",
       "      <td>1.0</td>\n",
       "      <td>102 posiedzenie Sejmu Rzeczypospolitej Polskie...</td>\n",
       "      <td>2015-10-08 09:06:44</td>\n",
       "      <td>0</td>\n",
       "      <td>-1</td>\n",
       "    </tr>\n",
       "    <tr>\n",
       "      <th>4</th>\n",
       "      <td>7.0</td>\n",
       "      <td>PO</td>\n",
       "      <td>Augustyn Urszula</td>\n",
       "      <td>Przeciw</td>\n",
       "      <td>102</td>\n",
       "      <td>1.0</td>\n",
       "      <td>102 posiedzenie Sejmu Rzeczypospolitej Polskie...</td>\n",
       "      <td>2015-10-08 09:06:44</td>\n",
       "      <td>0</td>\n",
       "      <td>-1</td>\n",
       "    </tr>\n",
       "  </tbody>\n",
       "</table>\n",
       "</div>"
      ],
      "text/plain": [
       "   kadencja partia               osoba       glos  nr_posiedzenia  nr_glos  \\\n",
       "0       7.0     PO   Achinger Elżbieta  Nieobecny             102      1.0   \n",
       "1       7.0     PO       Arkit Tadeusz    Przeciw             102      1.0   \n",
       "2       7.0     PO  Arłukowicz Bartosz    Przeciw             102      1.0   \n",
       "3       7.0     PO         Arndt Paweł    Przeciw             102      1.0   \n",
       "4       7.0     PO    Augustyn Urszula    Przeciw             102      1.0   \n",
       "\n",
       "                                                opis           timestamp  \\\n",
       "0  102 posiedzenie Sejmu Rzeczypospolitej Polskie... 2015-10-08 09:06:44   \n",
       "1  102 posiedzenie Sejmu Rzeczypospolitej Polskie... 2015-10-08 09:06:44   \n",
       "2  102 posiedzenie Sejmu Rzeczypospolitej Polskie... 2015-10-08 09:06:44   \n",
       "3  102 posiedzenie Sejmu Rzeczypospolitej Polskie... 2015-10-08 09:06:44   \n",
       "4  102 posiedzenie Sejmu Rzeczypospolitej Polskie... 2015-10-08 09:06:44   \n",
       "\n",
       "   partia_cat  vote_cat  \n",
       "0           0         0  \n",
       "1           0        -1  \n",
       "2           0        -1  \n",
       "3           0        -1  \n",
       "4           0        -1  "
      ]
     },
     "execution_count": 15,
     "metadata": {},
     "output_type": "execute_result"
    }
   ],
   "source": [
    "data_np102.head()"
   ]
  },
  {
   "cell_type": "code",
   "execution_count": 16,
   "metadata": {},
   "outputs": [],
   "source": [
    "d_g = data_np102[['partia','nr_glos','vote_cat']].groupby(['partia','nr_glos'])"
   ]
  },
  {
   "cell_type": "code",
   "execution_count": 17,
   "metadata": {},
   "outputs": [],
   "source": [
    "group_col = 'partia'"
   ]
  },
  {
   "cell_type": "code",
   "execution_count": 18,
   "metadata": {},
   "outputs": [],
   "source": [
    "g = data_np102[data_np102['nr_glos']==39][[group_col,'vote_cat']].groupby(group_col)"
   ]
  },
  {
   "cell_type": "code",
   "execution_count": 25,
   "metadata": {},
   "outputs": [],
   "source": [
    "osoba_partia_c = data.groupby('osoba')['partia'].nunique()"
   ]
  },
  {
   "cell_type": "code",
   "execution_count": 26,
   "metadata": {},
   "outputs": [
    {
     "data": {
      "text/plain": [
       "pandas.core.series.Series"
      ]
     },
     "execution_count": 26,
     "metadata": {},
     "output_type": "execute_result"
    }
   ],
   "source": [
    "type(osoba_partia_c)"
   ]
  },
  {
   "cell_type": "code",
   "execution_count": 33,
   "metadata": {},
   "outputs": [],
   "source": [
    "data['partia_count'] = data['osoba'].apply(lambda x: osoba_partia_c[x])"
   ]
  },
  {
   "cell_type": "code",
   "execution_count": 34,
   "metadata": {},
   "outputs": [
    {
     "data": {
      "text/html": [
       "<div>\n",
       "<style scoped>\n",
       "    .dataframe tbody tr th:only-of-type {\n",
       "        vertical-align: middle;\n",
       "    }\n",
       "\n",
       "    .dataframe tbody tr th {\n",
       "        vertical-align: top;\n",
       "    }\n",
       "\n",
       "    .dataframe thead th {\n",
       "        text-align: right;\n",
       "    }\n",
       "</style>\n",
       "<table border=\"1\" class=\"dataframe\">\n",
       "  <thead>\n",
       "    <tr style=\"text-align: right;\">\n",
       "      <th></th>\n",
       "      <th>kadencja</th>\n",
       "      <th>partia</th>\n",
       "      <th>osoba</th>\n",
       "      <th>glos</th>\n",
       "      <th>nr_posiedzenia</th>\n",
       "      <th>nr_glos</th>\n",
       "      <th>opis</th>\n",
       "      <th>timestamp</th>\n",
       "      <th>partia_cat</th>\n",
       "      <th>vote_cat</th>\n",
       "      <th>partia_count</th>\n",
       "    </tr>\n",
       "  </thead>\n",
       "  <tbody>\n",
       "    <tr>\n",
       "      <th>0</th>\n",
       "      <td>7.0</td>\n",
       "      <td>PO</td>\n",
       "      <td>Achinger Elżbieta</td>\n",
       "      <td>Nieobecny</td>\n",
       "      <td>102</td>\n",
       "      <td>1.0</td>\n",
       "      <td>102 posiedzenie Sejmu Rzeczypospolitej Polskie...</td>\n",
       "      <td>2015-10-08 09:06:44</td>\n",
       "      <td>0</td>\n",
       "      <td>0</td>\n",
       "      <td>1</td>\n",
       "    </tr>\n",
       "    <tr>\n",
       "      <th>1</th>\n",
       "      <td>7.0</td>\n",
       "      <td>PO</td>\n",
       "      <td>Arkit Tadeusz</td>\n",
       "      <td>Przeciw</td>\n",
       "      <td>102</td>\n",
       "      <td>1.0</td>\n",
       "      <td>102 posiedzenie Sejmu Rzeczypospolitej Polskie...</td>\n",
       "      <td>2015-10-08 09:06:44</td>\n",
       "      <td>0</td>\n",
       "      <td>-1</td>\n",
       "      <td>1</td>\n",
       "    </tr>\n",
       "    <tr>\n",
       "      <th>2</th>\n",
       "      <td>7.0</td>\n",
       "      <td>PO</td>\n",
       "      <td>Arłukowicz Bartosz</td>\n",
       "      <td>Przeciw</td>\n",
       "      <td>102</td>\n",
       "      <td>1.0</td>\n",
       "      <td>102 posiedzenie Sejmu Rzeczypospolitej Polskie...</td>\n",
       "      <td>2015-10-08 09:06:44</td>\n",
       "      <td>0</td>\n",
       "      <td>-1</td>\n",
       "      <td>2</td>\n",
       "    </tr>\n",
       "    <tr>\n",
       "      <th>3</th>\n",
       "      <td>7.0</td>\n",
       "      <td>PO</td>\n",
       "      <td>Arndt Paweł</td>\n",
       "      <td>Przeciw</td>\n",
       "      <td>102</td>\n",
       "      <td>1.0</td>\n",
       "      <td>102 posiedzenie Sejmu Rzeczypospolitej Polskie...</td>\n",
       "      <td>2015-10-08 09:06:44</td>\n",
       "      <td>0</td>\n",
       "      <td>-1</td>\n",
       "      <td>2</td>\n",
       "    </tr>\n",
       "    <tr>\n",
       "      <th>4</th>\n",
       "      <td>7.0</td>\n",
       "      <td>PO</td>\n",
       "      <td>Augustyn Urszula</td>\n",
       "      <td>Przeciw</td>\n",
       "      <td>102</td>\n",
       "      <td>1.0</td>\n",
       "      <td>102 posiedzenie Sejmu Rzeczypospolitej Polskie...</td>\n",
       "      <td>2015-10-08 09:06:44</td>\n",
       "      <td>0</td>\n",
       "      <td>-1</td>\n",
       "      <td>3</td>\n",
       "    </tr>\n",
       "  </tbody>\n",
       "</table>\n",
       "</div>"
      ],
      "text/plain": [
       "   kadencja partia               osoba       glos  nr_posiedzenia  nr_glos  \\\n",
       "0       7.0     PO   Achinger Elżbieta  Nieobecny             102      1.0   \n",
       "1       7.0     PO       Arkit Tadeusz    Przeciw             102      1.0   \n",
       "2       7.0     PO  Arłukowicz Bartosz    Przeciw             102      1.0   \n",
       "3       7.0     PO         Arndt Paweł    Przeciw             102      1.0   \n",
       "4       7.0     PO    Augustyn Urszula    Przeciw             102      1.0   \n",
       "\n",
       "                                                opis           timestamp  \\\n",
       "0  102 posiedzenie Sejmu Rzeczypospolitej Polskie... 2015-10-08 09:06:44   \n",
       "1  102 posiedzenie Sejmu Rzeczypospolitej Polskie... 2015-10-08 09:06:44   \n",
       "2  102 posiedzenie Sejmu Rzeczypospolitej Polskie... 2015-10-08 09:06:44   \n",
       "3  102 posiedzenie Sejmu Rzeczypospolitej Polskie... 2015-10-08 09:06:44   \n",
       "4  102 posiedzenie Sejmu Rzeczypospolitej Polskie... 2015-10-08 09:06:44   \n",
       "\n",
       "   partia_cat  vote_cat  partia_count  \n",
       "0           0         0             1  \n",
       "1           0        -1             1  \n",
       "2           0        -1             2  \n",
       "3           0        -1             2  \n",
       "4           0        -1             3  "
      ]
     },
     "execution_count": 34,
     "metadata": {},
     "output_type": "execute_result"
    }
   ],
   "source": [
    "data.head()"
   ]
  },
  {
   "cell_type": "code",
   "execution_count": null,
   "metadata": {},
   "outputs": [],
   "source": []
  }
 ],
 "metadata": {
  "kernelspec": {
   "display_name": "Python 3",
   "language": "python",
   "name": "python3"
  },
  "language_info": {
   "codemirror_mode": {
    "name": "ipython",
    "version": 3
   },
   "file_extension": ".py",
   "mimetype": "text/x-python",
   "name": "python",
   "nbconvert_exporter": "python",
   "pygments_lexer": "ipython3",
   "version": "3.7.3"
  },
  "pycharm": {
   "stem_cell": {
    "cell_type": "raw",
    "metadata": {
     "collapsed": false
    },
    "source": []
   }
  }
 },
 "nbformat": 4,
 "nbformat_minor": 1
}
