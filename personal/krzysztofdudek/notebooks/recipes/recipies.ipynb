{
 "cells": [
  {
   "cell_type": "markdown",
   "metadata": {
    "collapsed": true,
    "pycharm": {
     "name": "#%% md\n"
    }
   },
   "source": [
    "# Scraping przepisów z www.przepisy.pl\n",
    "\n"
   ]
  },
  {
   "cell_type": "markdown",
   "metadata": {
    "pycharm": {
     "name": "#%% md\n"
    }
   },
   "source": [
    "Jest API:\n",
    "\n",
    "Wylistowanie z kategorii\n",
    "https://api2.przepisy.pl/recipes/categories?type=categories&category=/przepisy/ciasta&flat=false\n",
    "\n",
    "wylistowanie z podkategorii\n",
    "https://api2.przepisy.pl/recipes/search/?page=1&per_page=32&category=babka-piaskowa&sort=popular\n",
    "\n",
    "Brak api na skladniki\n"
   ]
  },
  {
   "cell_type": "code",
   "execution_count": 36,
   "metadata": {},
   "outputs": [],
   "source": [
    "import requests\n",
    "from bs4 import BeautifulSoup\n",
    "import pandas as pd\n",
    "import time"
   ]
  },
  {
   "cell_type": "code",
   "execution_count": 37,
   "metadata": {},
   "outputs": [],
   "source": [
    "root_url = 'https://www.przepisy.pl/przepis/'"
   ]
  },
  {
   "cell_type": "code",
   "execution_count": 38,
   "metadata": {},
   "outputs": [],
   "source": [
    "cakes = [\n",
    "    'ciasto-marmurkowe',\n",
    "    'ciasto-cytrynowe-7860',\n",
    "    'babka-pomaranczowa-11999',\n",
    "    'babka-ucierana-2832'\n",
    "]"
   ]
  },
  {
   "cell_type": "code",
   "execution_count": 39,
   "metadata": {},
   "outputs": [],
   "source": [
    "def get_page(url):\n",
    "    return BeautifulSoup(requests.get(url).text, 'lxml')"
   ]
  },
  {
   "cell_type": "code",
   "execution_count": 40,
   "metadata": {},
   "outputs": [],
   "source": [
    "def get_ingredients_ul(url):\n",
    "    bs = get_page(url)\n",
    "    return bs.select('ul.ingredient-ul li.ingredient-li')"
   ]
  },
  {
   "cell_type": "code",
   "execution_count": 41,
   "metadata": {},
   "outputs": [],
   "source": [
    "def get_ingredients(url):\n",
    "    ingredients_ul = get_ingredients_ul(url)\n",
    "    ingredients = []\n",
    "\n",
    "    for ingredient_li in ingredients_ul:\n",
    "        ingredient_name = ingredient_li.select_one('div.ingredient-name input').get('id')\n",
    "        ingredient_quantity_tag = ingredient_li.select_one('span.quantity')\n",
    "        if ingredient_quantity_tag:\n",
    "            ingredient_quantity = ingredient_quantity_tag.text\n",
    "        else: \n",
    "            ingredient_quantity = '---'\n",
    "    \n",
    "        ingredients.append( [url, ingredient_name, ingredient_quantity] )\n",
    "    return ingredients"
   ]
  },
  {
   "cell_type": "code",
   "execution_count": 42,
   "metadata": {},
   "outputs": [],
   "source": [
    "ingredients_df = pd.DataFrame(columns=['URL','nazwa_skladnika','ilosc'])"
   ]
  },
  {
   "cell_type": "code",
   "execution_count": 43,
   "metadata": {},
   "outputs": [],
   "source": [
    "urls_to_cakes = [ root_url + cake for cake in cakes ]"
   ]
  },
  {
   "cell_type": "code",
   "execution_count": 50,
   "metadata": {},
   "outputs": [
    {
     "name": "stdout",
     "output_type": "stream",
     "text": [
      "Requesting https://www.przepisy.pl/przepis/ciasto-marmurkowe\n",
      "Requesting https://www.przepisy.pl/przepis/ciasto-cytrynowe-7860\n",
      "Requesting https://www.przepisy.pl/przepis/babka-pomaranczowa-11999\n",
      "Requesting https://www.przepisy.pl/przepis/babka-ucierana-2832\n"
     ]
    }
   ],
   "source": [
    "ingredients = []\n",
    "for url_to_cake in urls_to_cakes:\n",
    "    print(f\"Requesting {url_to_cake}\")\n",
    "    ingredients = ingredients +  get_ingredients(url_to_cake)\n",
    "    time.sleep( 15 )\n",
    "    "
   ]
  },
  {
   "cell_type": "code",
   "execution_count": 52,
   "metadata": {},
   "outputs": [
    {
     "data": {
      "text/plain": [
       "[['https://www.przepisy.pl/przepis/ciasto-marmurkowe',\n",
       "  'Kostka do pieczenia Kasia',\n",
       "  '1 szt.'],\n",
       " ['https://www.przepisy.pl/przepis/ciasto-marmurkowe',\n",
       "  'cukier puder',\n",
       "  '1 szklanka'],\n",
       " ['https://www.przepisy.pl/przepis/ciasto-marmurkowe',\n",
       "  'cukier waniliowy',\n",
       "  '1 opak.'],\n",
       " ['https://www.przepisy.pl/przepis/ciasto-marmurkowe', 'jajko', '4 szt.'],\n",
       " ['https://www.przepisy.pl/przepis/ciasto-marmurkowe',\n",
       "  'proszek do pieczenia',\n",
       "  '3 łyżeczki'],\n",
       " ['https://www.przepisy.pl/przepis/ciasto-marmurkowe', 'mąka', '2 szklanki'],\n",
       " ['https://www.przepisy.pl/przepis/ciasto-marmurkowe',\n",
       "  'mleko',\n",
       "  '0,5 szklanki'],\n",
       " ['https://www.przepisy.pl/przepis/ciasto-marmurkowe', 'kakao', '1 łyżka'],\n",
       " ['https://www.przepisy.pl/przepis/ciasto-marmurkowe',\n",
       "  'cukier puder do dekoracji ',\n",
       "  '3 dag'],\n",
       " ['https://www.przepisy.pl/przepis/ciasto-cytrynowe-7860',\n",
       "  'Kostka do pieczenia Kasia',\n",
       "  '1 szt.'],\n",
       " ['https://www.przepisy.pl/przepis/ciasto-cytrynowe-7860',\n",
       "  'cukier puder',\n",
       "  '1 szklanka'],\n",
       " ['https://www.przepisy.pl/przepis/ciasto-cytrynowe-7860', 'jajka', '4 szt.'],\n",
       " ['https://www.przepisy.pl/przepis/ciasto-cytrynowe-7860',\n",
       "  'mąka',\n",
       "  '2 szklanki'],\n",
       " ['https://www.przepisy.pl/przepis/ciasto-cytrynowe-7860',\n",
       "  'proszek do pieczenia',\n",
       "  '1 łyżka'],\n",
       " ['https://www.przepisy.pl/przepis/ciasto-cytrynowe-7860',\n",
       "  'cytryna',\n",
       "  '2 szt.'],\n",
       " ['https://www.przepisy.pl/przepis/babka-pomaranczowa-11999',\n",
       "  'Kostka do pieczenia Kasia',\n",
       "  '200 g'],\n",
       " ['https://www.przepisy.pl/przepis/babka-pomaranczowa-11999',\n",
       "  'jajka',\n",
       "  '4 szt.'],\n",
       " ['https://www.przepisy.pl/przepis/babka-pomaranczowa-11999',\n",
       "  'cukier',\n",
       "  '1 szklanka'],\n",
       " ['https://www.przepisy.pl/przepis/babka-pomaranczowa-11999',\n",
       "  'mąka pszenna',\n",
       "  '1,5 szklanki'],\n",
       " ['https://www.przepisy.pl/przepis/babka-pomaranczowa-11999',\n",
       "  'mąka ziemniaczana',\n",
       "  '0,5 szklanki'],\n",
       " ['https://www.przepisy.pl/przepis/babka-pomaranczowa-11999',\n",
       "  'proszek do pieczenia',\n",
       "  '2 łyżeczki'],\n",
       " ['https://www.przepisy.pl/przepis/babka-pomaranczowa-11999',\n",
       "  'skórka z pomarańczy',\n",
       "  '1 szt.'],\n",
       " ['https://www.przepisy.pl/przepis/babka-pomaranczowa-11999',\n",
       "  'sok z pomarańczy',\n",
       "  '0,5 szt.'],\n",
       " ['https://www.przepisy.pl/przepis/babka-pomaranczowa-11999',\n",
       "  'cukier waniliowy',\n",
       "  '1 opak.'],\n",
       " ['https://www.przepisy.pl/przepis/babka-ucierana-2832',\n",
       "  'Kostka do pieczenia Kasia',\n",
       "  '1 opak.'],\n",
       " ['https://www.przepisy.pl/przepis/babka-ucierana-2832', 'jajko', '4 szt.'],\n",
       " ['https://www.przepisy.pl/przepis/babka-ucierana-2832', 'mąka', '350 g'],\n",
       " ['https://www.przepisy.pl/przepis/babka-ucierana-2832', 'cukier', '250 g'],\n",
       " ['https://www.przepisy.pl/przepis/babka-ucierana-2832',\n",
       "  'proszek do pieczenia',\n",
       "  '2 łyżeczki'],\n",
       " ['https://www.przepisy.pl/przepis/babka-ucierana-2832',\n",
       "  'zapach arakowy',\n",
       "  '1 opak.']]"
      ]
     },
     "execution_count": 52,
     "metadata": {},
     "output_type": "execute_result"
    }
   ],
   "source": [
    "ingredients"
   ]
  },
  {
   "cell_type": "code",
   "execution_count": 53,
   "metadata": {},
   "outputs": [],
   "source": [
    "ingredients_df = pd.DataFrame(ingredients, columns=['URL','nazwa_skladnika','ilosc'])"
   ]
  },
  {
   "cell_type": "code",
   "execution_count": 55,
   "metadata": {},
   "outputs": [],
   "source": [
    "#ingredients_df =  ingredients_df.append(ingredients)\n",
    "#ingredients_df"
   ]
  },
  {
   "cell_type": "code",
   "execution_count": 56,
   "metadata": {},
   "outputs": [],
   "source": [
    "ingredients_df.to_csv('./data/ingredients_cakes.csv', index=False, header=True)"
   ]
  },
  {
   "cell_type": "code",
   "execution_count": null,
   "metadata": {},
   "outputs": [],
   "source": []
  }
 ],
 "metadata": {
  "kernelspec": {
   "display_name": "Python 3",
   "language": "python",
   "name": "python3"
  },
  "language_info": {
   "codemirror_mode": {
    "name": "ipython",
    "version": 3
   },
   "file_extension": ".py",
   "mimetype": "text/x-python",
   "name": "python",
   "nbconvert_exporter": "python",
   "pygments_lexer": "ipython3",
   "version": "3.7.3"
  },
  "pycharm": {
   "stem_cell": {
    "cell_type": "raw",
    "metadata": {
     "collapsed": false
    },
    "source": []
   }
  }
 },
 "nbformat": 4,
 "nbformat_minor": 1
}
