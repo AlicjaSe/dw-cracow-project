{
 "cells": [
  {
   "cell_type": "code",
   "execution_count": 2,
   "metadata": {},
   "outputs": [],
   "source": [
    "from bs4 import BeautifulSoup\n",
    "import pandas as pd\n",
    "import requests"
   ]
  },
  {
   "cell_type": "code",
   "execution_count": 3,
   "metadata": {},
   "outputs": [],
   "source": [
    "url = 'https://www.sejm.gov.pl/Sejm8.nsf/agent.xsp?symbol=glosowania&NrKadencji=8&NrPosiedzenia=86&NrGlosowania=29'\n",
    "base_url = 'https://www.sejm.gov.pl/Sejm8.nsf/'\n",
    "response = requests.get(url)"
   ]
  },
  {
   "cell_type": "markdown",
   "metadata": {},
   "source": [
    "### Get club urls"
   ]
  },
  {
   "cell_type": "code",
   "execution_count": 6,
   "metadata": {},
   "outputs": [],
   "source": [
    "def get_club_urls(vote_url: str) -> dict:\n",
    "    response = requests.get(vote_url)\n",
    "    soup = BeautifulSoup(response.text, 'html.parser')\n",
    "    clubs = soup.find_all('td', {'class': 'left'})\n",
    "    club_urls = dict()\n",
    "    \n",
    "    for club in clubs:\n",
    "        name = club.find('strong').text\n",
    "        url = club.find('a', href=True)['href']\n",
    "        club_urls[name] = url\n",
    "    \n",
    "    return club_urls"
   ]
  },
  {
   "cell_type": "markdown",
   "metadata": {},
   "source": [
    "### Get names and votes"
   ]
  },
  {
   "cell_type": "code",
   "execution_count": 7,
   "metadata": {},
   "outputs": [],
   "source": [
    "def get_club_votes(club: str, url: str) -> pd.DataFrame:\n",
    "    all_names_votes = list()\n",
    "    response = requests.get(club_url)\n",
    "    soup = BeautifulSoup(response.text, 'html.parser')\n",
    "    tds = soup.find_all('td', {'class': 'left'})\n",
    "    people = [td.text for td in tds]\n",
    "    df = pd.DataFrame({\n",
    "        'Nazwisko': people[::2],\n",
    "        'Glos': people[1::2],\n",
    "        'Partia': club\n",
    "    })\n",
    "    \n",
    "    return df"
   ]
  },
  {
   "cell_type": "code",
   "execution_count": null,
   "metadata": {},
   "outputs": [],
   "source": []
  }
 ],
 "metadata": {
  "kernelspec": {
   "display_name": "Python (DW_proj)",
   "language": "python",
   "name": "venv_proj"
  },
  "language_info": {
   "codemirror_mode": {
    "name": "ipython",
    "version": 3
   },
   "file_extension": ".py",
   "mimetype": "text/x-python",
   "name": "python",
   "nbconvert_exporter": "python",
   "pygments_lexer": "ipython3",
   "version": "3.7.5"
  }
 },
 "nbformat": 4,
 "nbformat_minor": 4
}
