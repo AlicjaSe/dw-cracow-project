{
 "cells": [
  {
   "cell_type": "code",
   "execution_count": 6,
   "metadata": {},
   "outputs": [],
   "source": [
    "from bs4 import BeautifulSoup\n",
    "import pandas as pd\n",
    "import requests\n",
    "from time import sleep\n",
    "import os"
   ]
  },
  {
   "cell_type": "markdown",
   "metadata": {},
   "source": [
    "### Get main page"
   ]
  },
  {
   "cell_type": "code",
   "execution_count": 2,
   "metadata": {},
   "outputs": [],
   "source": [
    "main_page = 'https://www.winiary.pl'\n",
    "response = requests.get(main_page)\n",
    "soup = BeautifulSoup(response.text, 'html.parser')"
   ]
  },
  {
   "cell_type": "markdown",
   "metadata": {},
   "source": [
    "### Find all recipes"
   ]
  },
  {
   "cell_type": "code",
   "execution_count": 3,
   "metadata": {},
   "outputs": [],
   "source": [
    "recipe_divs = soup.find_all('div', {'class': 'box recipe fit-3'})\n",
    "recipe_divs += soup.find_all('div', {'class': 'box recipe fit-3 more'})"
   ]
  },
  {
   "cell_type": "code",
   "execution_count": 4,
   "metadata": {},
   "outputs": [],
   "source": [
    "recipes = dict()\n",
    "for recipe in recipe_divs:\n",
    "    recipe_a = recipe.find_all('a', href=True)[-1]\n",
    "    recipe_url = recipe_a['href']\n",
    "    recipe_name = recipe_a.text.strip()\n",
    "    recipes[recipe_name] = recipe_url"
   ]
  },
  {
   "cell_type": "markdown",
   "metadata": {},
   "source": [
    "### Scrap recipes"
   ]
  },
  {
   "cell_type": "code",
   "execution_count": 7,
   "metadata": {},
   "outputs": [
    {
     "name": "stdout",
     "output_type": "stream",
     "text": [
      "Tort urodzinowy WINIARY https://www.winiary.pl/przepis.aspx/139947/tort-urodzinowy-winiary\n",
      "Placuszki z dyni https://www.winiary.pl/przepis.aspx/138407/placuszki-z-dyni\n",
      "Żurek z zapiekanką ziemniaczaną, boczkiem, kapustą i majerankiem https://www.winiary.pl/przepis.aspx/140634/zurek-z-zapiekanka-ziemniaczana-boczkiem-kapusta-i-majerankiem\n",
      "Ogórki w zalewie musztardowej https://www.winiary.pl/przepis.aspx/138304/ogorki-w-zalewie-musztardowej\n",
      "Sernik z Princessą Zebrą https://www.winiary.pl/przepis.aspx/139996/sernik-z-princessa-zebra\n",
      "Pasta z dyni do chleba https://www.winiary.pl/przepis.aspx/138421/pasta-z-dyni-do-chleba\n",
      "Curry z dynią z Bulionem Warzywnym Winiary https://www.winiary.pl/przepis.aspx/139975/curry-z-dynia-z-bulionem-warzywnym-winiary\n",
      "Rozpływający się w ustach stek wołowy z orzechami i gorgonzolą https://www.winiary.pl/przepis.aspx/140206/rozplywajacy-sie-w-ustach-stek-wolowy-z-orzechami-i-gorgonzola\n",
      "Gnocchi z indykiem w pomidorach https://www.winiary.pl/przepis.aspx/139723/gnocchi-z-indykiem-w-pomidorach\n",
      "Zupa krem z pora i serka topionego https://www.winiary.pl/przepis.aspx/138884/zupa-krem-z-pora-i-serka-topionego\n",
      "Ziemniaki faszerowane serem, szynką lub boczkiem z sosem czosnkowym https://www.winiary.pl/przepis.aspx/138744/ziemniaki-faszerowane-serem-szynka-lub-boczkiem-z-sosem-czosnkowym\n",
      "Pieczona dynia hokkaido https://www.winiary.pl/przepis.aspx/138409/pieczona-dynia-hokkaido\n"
     ]
    }
   ],
   "source": [
    "wrong = dict()\n",
    "for name, url in recipes.items():\n",
    "    if os.path.exists('data' + name + '.xlsx'):\n",
    "        continue\n",
    "    try:\n",
    "        response = requests.get(url)\n",
    "        soup = BeautifulSoup(response.text, 'html.parser')\n",
    "        span = soup.find_all('span', {'itemprop': 'recipeIngredient'})\n",
    "        ingredients = [item.find('a').text.strip() for item in span]\n",
    "        units = [item.find('span', {'class': 'unit'}).text.strip() for item in span]\n",
    "        units = [unit[1:-1].replace('\\xa0\\r\\n', ' ') for unit in units]\n",
    "        instruction_list = soup.find_all('li', {'itemprop': 'recipeInstructions'})\n",
    "        steps = [step.text.strip().replace('\\xa0', ' ') for step in instruction_list]\n",
    "        data = {'ingredients': ingredients, 'units': units, 'steps': steps}\n",
    "        df = pd.DataFrame(dict([(key, pd.Series(values)) for key, values in data.items()]))\n",
    "        df.to_excel('data/' + name + '.xlsx', index=False)\n",
    "    except:\n",
    "        print(name, url)\n",
    "        wrong[name] = url\n",
    "    sleep(3)"
   ]
  },
  {
   "cell_type": "code",
   "execution_count": null,
   "metadata": {},
   "outputs": [],
   "source": []
  }
 ],
 "metadata": {
  "kernelspec": {
   "display_name": "Python 3",
   "language": "python",
   "name": "python3"
  },
  "language_info": {
   "codemirror_mode": {
    "name": "ipython",
    "version": 3
   },
   "file_extension": ".py",
   "mimetype": "text/x-python",
   "name": "python",
   "nbconvert_exporter": "python",
   "pygments_lexer": "ipython3",
   "version": "3.6.8"
  }
 },
 "nbformat": 4,
 "nbformat_minor": 2
}
