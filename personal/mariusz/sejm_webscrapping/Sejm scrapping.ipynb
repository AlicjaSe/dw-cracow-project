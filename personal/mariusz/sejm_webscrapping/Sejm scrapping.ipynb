{
 "cells": [
  {
   "cell_type": "code",
   "execution_count": 51,
   "metadata": {},
   "outputs": [],
   "source": [
    "import requests\n",
    "from requests.exceptions import RequestException\n",
    "from contextlib import closing\n",
    "from bs4 import BeautifulSoup\n",
    "\n",
    "from datetime import datetime\n",
    "from dateutil import parser\n",
    "\n",
    "import ast\n",
    "import pandas as pd"
   ]
  },
  {
   "cell_type": "code",
   "execution_count": 40,
   "metadata": {},
   "outputs": [],
   "source": [
    "link = 'https://www.sejm.gov.pl/Sejm8.nsf/agent.xsp?symbol=posglos&NrKadencji=8'\n",
    "base_link = 'https://www.sejm.gov.pl/Sejm8.nsf/'"
   ]
  },
  {
   "cell_type": "code",
   "execution_count": 3,
   "metadata": {},
   "outputs": [],
   "source": [
    "def gethtml(url):\n",
    "    try:        \n",
    "        with closing(requests.get(url, stream=False)) as resp:\n",
    "            return resp\n",
    "            if resp.status_code == 200 and resp.headers['content-type'] is not None:\n",
    "                return resp             \n",
    "            return None\n",
    "    except Exception as e:\n",
    "        print(e)\n",
    "        #log_error('Error during requests to {0} : {1}'.format(url, str(e)))\n",
    "        return None"
   ]
  },
  {
   "cell_type": "code",
   "execution_count": 32,
   "metadata": {},
   "outputs": [],
   "source": [
    "def is_int(value):\n",
    "  try:\n",
    "    int(value)\n",
    "    return True\n",
    "  except:\n",
    "    return False"
   ]
  },
  {
   "cell_type": "code",
   "execution_count": 4,
   "metadata": {},
   "outputs": [],
   "source": [
    "result = gethtml(link)"
   ]
  },
  {
   "cell_type": "code",
   "execution_count": 42,
   "metadata": {},
   "outputs": [],
   "source": [
    "bs = BeautifulSoup(result.text, 'lxml')\n",
    "table = bs.find('table')\n",
    "table_of_rows = []\n",
    "for tr in table.findAll('tr'):\n",
    "    values = [td.text for td in tr.findAll('td')]\n",
    "    if(len(values) > 0):\n",
    "        links = [lnk.get('href') for lnk in tr.findAll('a')]\n",
    "        if(len(links) > 0):\n",
    "            values.append(links[0])        \n",
    "        #print(values)\n",
    "        table_of_rows.append(values)\n",
    "\n",
    "prev_voting_order = 0\n",
    "for row in table_of_rows:\n",
    "    if(is_int(row[0])):\n",
    "        prev_voting_order=row[0]\n",
    "    row[0]=prev_voting_order\n",
    "    row[3] = base_link + '' + row[3]"
   ]
  },
  {
   "cell_type": "code",
   "execution_count": 46,
   "metadata": {},
   "outputs": [],
   "source": [
    "df = pd.DataFrame(table_of_rows, columns = ['Nr_Pos', 'Data_Pos', 'Pos_Number', 'Link']) "
   ]
  },
  {
   "cell_type": "code",
   "execution_count": 47,
   "metadata": {},
   "outputs": [
    {
     "data": {
      "text/html": [
       "<div>\n",
       "<style scoped>\n",
       "    .dataframe tbody tr th:only-of-type {\n",
       "        vertical-align: middle;\n",
       "    }\n",
       "\n",
       "    .dataframe tbody tr th {\n",
       "        vertical-align: top;\n",
       "    }\n",
       "\n",
       "    .dataframe thead th {\n",
       "        text-align: right;\n",
       "    }\n",
       "</style>\n",
       "<table border=\"1\" class=\"dataframe\">\n",
       "  <thead>\n",
       "    <tr style=\"text-align: right;\">\n",
       "      <th></th>\n",
       "      <th>Nr_Pos</th>\n",
       "      <th>Data_Pos</th>\n",
       "      <th>Pos_Number</th>\n",
       "      <th>Link</th>\n",
       "    </tr>\n",
       "  </thead>\n",
       "  <tbody>\n",
       "    <tr>\n",
       "      <th>0</th>\n",
       "      <td>86</td>\n",
       "      <td>11 września 2019 r.</td>\n",
       "      <td>88</td>\n",
       "      <td>https://www.sejm.gov.pl/Sejm8.nsf/agent.xsp?sy...</td>\n",
       "    </tr>\n",
       "    <tr>\n",
       "      <th>1</th>\n",
       "      <td>86</td>\n",
       "      <td>16 października 2019 r.</td>\n",
       "      <td>38</td>\n",
       "      <td>https://www.sejm.gov.pl/Sejm8.nsf/agent.xsp?sy...</td>\n",
       "    </tr>\n",
       "    <tr>\n",
       "      <th>2</th>\n",
       "      <td>85</td>\n",
       "      <td>31 lipca 2019 r.</td>\n",
       "      <td>24</td>\n",
       "      <td>https://www.sejm.gov.pl/Sejm8.nsf/agent.xsp?sy...</td>\n",
       "    </tr>\n",
       "    <tr>\n",
       "      <th>3</th>\n",
       "      <td>85</td>\n",
       "      <td>9 sierpnia 2019 r.</td>\n",
       "      <td>11</td>\n",
       "      <td>https://www.sejm.gov.pl/Sejm8.nsf/agent.xsp?sy...</td>\n",
       "    </tr>\n",
       "    <tr>\n",
       "      <th>4</th>\n",
       "      <td>85</td>\n",
       "      <td>30 sierpnia 2019 r.</td>\n",
       "      <td>38</td>\n",
       "      <td>https://www.sejm.gov.pl/Sejm8.nsf/agent.xsp?sy...</td>\n",
       "    </tr>\n",
       "  </tbody>\n",
       "</table>\n",
       "</div>"
      ],
      "text/plain": [
       "  Nr_Pos                 Data_Pos Pos_Number  \\\n",
       "0     86      11 września 2019 r.         88   \n",
       "1     86  16 października 2019 r.         38   \n",
       "2     85         31 lipca 2019 r.         24   \n",
       "3     85       9 sierpnia 2019 r.         11   \n",
       "4     85      30 sierpnia 2019 r.         38   \n",
       "\n",
       "                                                Link  \n",
       "0  https://www.sejm.gov.pl/Sejm8.nsf/agent.xsp?sy...  \n",
       "1  https://www.sejm.gov.pl/Sejm8.nsf/agent.xsp?sy...  \n",
       "2  https://www.sejm.gov.pl/Sejm8.nsf/agent.xsp?sy...  \n",
       "3  https://www.sejm.gov.pl/Sejm8.nsf/agent.xsp?sy...  \n",
       "4  https://www.sejm.gov.pl/Sejm8.nsf/agent.xsp?sy...  "
      ]
     },
     "execution_count": 47,
     "metadata": {},
     "output_type": "execute_result"
    }
   ],
   "source": [
    "df.head()"
   ]
  },
  {
   "cell_type": "code",
   "execution_count": 86,
   "metadata": {},
   "outputs": [],
   "source": [
    "months = ['stycznia','lutego','marca','kwietnia','maja','czerwca','lipca','sierpnia', 'września', 'października','listopada', 'grudnia']\n",
    "\n",
    "def date_conv(xdate):\n",
    "    arr = xdate.replace('r.','').split()\n",
    "    lstr = arr[0] + '-' + str(months.index(arr[1])+1)+'-'+arr[2]\n",
    "    return datetime.strptime(lstr,'%d-%m-%Y')\n",
    "\n",
    "\n",
    "df['Data_Pos_Parsed'] = df['Data_Pos'].map(date_conv)"
   ]
  },
  {
   "cell_type": "code",
   "execution_count": 85,
   "metadata": {},
   "outputs": [
    {
     "data": {
      "text/html": [
       "<div>\n",
       "<style scoped>\n",
       "    .dataframe tbody tr th:only-of-type {\n",
       "        vertical-align: middle;\n",
       "    }\n",
       "\n",
       "    .dataframe tbody tr th {\n",
       "        vertical-align: top;\n",
       "    }\n",
       "\n",
       "    .dataframe thead th {\n",
       "        text-align: right;\n",
       "    }\n",
       "</style>\n",
       "<table border=\"1\" class=\"dataframe\">\n",
       "  <thead>\n",
       "    <tr style=\"text-align: right;\">\n",
       "      <th></th>\n",
       "      <th>Nr_Pos</th>\n",
       "      <th>Data_Pos</th>\n",
       "      <th>Pos_Number</th>\n",
       "      <th>Link</th>\n",
       "      <th>Data_Pos_Parsed</th>\n",
       "    </tr>\n",
       "  </thead>\n",
       "  <tbody>\n",
       "    <tr>\n",
       "      <th>70</th>\n",
       "      <td>53</td>\n",
       "      <td>6 grudnia 2017 r.</td>\n",
       "      <td>22</td>\n",
       "      <td>https://www.sejm.gov.pl/Sejm8.nsf/agent.xsp?sy...</td>\n",
       "      <td>2017-12-06</td>\n",
       "    </tr>\n",
       "    <tr>\n",
       "      <th>26</th>\n",
       "      <td>74</td>\n",
       "      <td>14 grudnia 2018 r.</td>\n",
       "      <td>66</td>\n",
       "      <td>https://www.sejm.gov.pl/Sejm8.nsf/agent.xsp?sy...</td>\n",
       "      <td>2018-12-14</td>\n",
       "    </tr>\n",
       "    <tr>\n",
       "      <th>22</th>\n",
       "      <td>76</td>\n",
       "      <td>16 stycznia 2019 r.</td>\n",
       "      <td>440</td>\n",
       "      <td>https://www.sejm.gov.pl/Sejm8.nsf/agent.xsp?sy...</td>\n",
       "      <td>2019-01-16</td>\n",
       "    </tr>\n",
       "  </tbody>\n",
       "</table>\n",
       "</div>"
      ],
      "text/plain": [
       "   Nr_Pos             Data_Pos Pos_Number  \\\n",
       "70     53    6 grudnia 2017 r.         22   \n",
       "26     74   14 grudnia 2018 r.         66   \n",
       "22     76  16 stycznia 2019 r.        440   \n",
       "\n",
       "                                                 Link Data_Pos_Parsed  \n",
       "70  https://www.sejm.gov.pl/Sejm8.nsf/agent.xsp?sy...      2017-12-06  \n",
       "26  https://www.sejm.gov.pl/Sejm8.nsf/agent.xsp?sy...      2018-12-14  \n",
       "22  https://www.sejm.gov.pl/Sejm8.nsf/agent.xsp?sy...      2019-01-16  "
      ]
     },
     "execution_count": 85,
     "metadata": {},
     "output_type": "execute_result"
    }
   ],
   "source": [
    "df.sample(3)"
   ]
  },
  {
   "cell_type": "code",
   "execution_count": 88,
   "metadata": {},
   "outputs": [],
   "source": [
    "df.to_csv('sejm.csv', encoding='utf-8')"
   ]
  },
  {
   "cell_type": "code",
   "execution_count": null,
   "metadata": {},
   "outputs": [],
   "source": []
  }
 ],
 "metadata": {
  "kernelspec": {
   "display_name": "Python 3",
   "language": "python",
   "name": "python3"
  },
  "language_info": {
   "codemirror_mode": {
    "name": "ipython",
    "version": 3
   },
   "file_extension": ".py",
   "mimetype": "text/x-python",
   "name": "python",
   "nbconvert_exporter": "python",
   "pygments_lexer": "ipython3",
   "version": "3.6.8"
  }
 },
 "nbformat": 4,
 "nbformat_minor": 2
}
